{
 "cells": [
  {
   "cell_type": "markdown",
   "id": "d2d00984-953f-46de-a399-a22f9fd6c92b",
   "metadata": {},
   "source": [
    "## Children Household Count Per County File Processing\n",
    "\n",
    "In this file, we will be making a dataframe that includes the number of children in all of the households in each county of the US."
   ]
  },
  {
   "cell_type": "markdown",
   "id": "e6ba55ce-275b-4aa5-9d66-4b862fad2304",
   "metadata": {
    "tags": []
   },
   "source": [
    "### Import statements"
   ]
  },
  {
   "cell_type": "code",
   "execution_count": 1,
   "id": "9b870930-a142-4a54-8d38-e0fd2eb3e883",
   "metadata": {},
   "outputs": [
    {
     "name": "stderr",
     "output_type": "stream",
     "text": [
      "/opt/conda/lib/python3.9/site-packages/geopandas/_compat.py:112: UserWarning: The Shapely GEOS version (3.11.0-CAPI-1.17.0) is incompatible with the GEOS version PyGEOS was compiled with (3.10.1-CAPI-1.16.0). Conversions between both will be slow.\n",
      "  warnings.warn(\n"
     ]
    }
   ],
   "source": [
    "import pandas as pd\n",
    "import geopandas as gpd\n",
    "import os"
   ]
  },
  {
   "cell_type": "markdown",
   "id": "8afab1b5-37fe-43ae-823e-d6e8615d21ff",
   "metadata": {
    "tags": []
   },
   "source": [
    "### Setting ```DATA_DIR```\n",
    "In order to read in files from this repository, we must set ```DATA_DIR``` to be the data folder within this repository. This requires ```os.getcwd()``` to return the path to the processing notebook of this repository, so ```xxx/codeplus-celine-dcc-package/procesing```, where ```xxx``` is the path to where you cloned this repository. If it is not, use ```os.chdir(path)``` to change the current working directory to ```xxx/codeplus-celine-dcc-package/procesing``` before getting the current working directory in ```DATA_DIR = os.getcwd()```, where ```path``` is ```xxx/codeplus-celine-dcc-package/procesing```."
   ]
  },
  {
   "cell_type": "code",
   "execution_count": 2,
   "id": "c14aad9c-b7a6-4842-aa2e-eb1600299ef6",
   "metadata": {},
   "outputs": [
    {
     "data": {
      "text/plain": [
       "'/hpc/home/at341/ondemand/codeplus-celine-dcc-package/data'"
      ]
     },
     "execution_count": 2,
     "metadata": {},
     "output_type": "execute_result"
    }
   ],
   "source": [
    "DATA_DIR = os.getcwd()\n",
    "DATA_DIR = DATA_DIR.replace('processing', 'data')\n",
    "DATA_DIR"
   ]
  },
  {
   "cell_type": "markdown",
   "id": "3dd1ee82-769d-427e-8890-9ef4735e4e19",
   "metadata": {
    "tags": []
   },
   "source": [
    "### Importing county level shape file\n",
    "\n",
    "This shapefile of US counties was taken from the United States Census Bureau's Cartographic Boundary Files (available [here](https://www.census.gov/geographies/mapping-files/time-series/geo/carto-boundary-file.html)). It file provides the polygon geometries of each county in the US; this will allow us to make visualizations of the US with breakdowns by county. In this case, we are making this processing file to allow us make a map of US with children count by county."
   ]
  },
  {
   "cell_type": "code",
   "execution_count": 3,
   "id": "a94e4c07-2ee8-4c98-ba3e-477c33857a5e",
   "metadata": {},
   "outputs": [
    {
     "data": {
      "text/html": [
       "<div>\n",
       "<style scoped>\n",
       "    .dataframe tbody tr th:only-of-type {\n",
       "        vertical-align: middle;\n",
       "    }\n",
       "\n",
       "    .dataframe tbody tr th {\n",
       "        vertical-align: top;\n",
       "    }\n",
       "\n",
       "    .dataframe thead th {\n",
       "        text-align: right;\n",
       "    }\n",
       "</style>\n",
       "<table border=\"1\" class=\"dataframe\">\n",
       "  <thead>\n",
       "    <tr style=\"text-align: right;\">\n",
       "      <th></th>\n",
       "      <th>STATEFP</th>\n",
       "      <th>COUNTYFP</th>\n",
       "      <th>COUNTYNS</th>\n",
       "      <th>AFFGEOID</th>\n",
       "      <th>GEOID</th>\n",
       "      <th>NAME</th>\n",
       "      <th>NAMELSAD</th>\n",
       "      <th>STUSPS</th>\n",
       "      <th>STATE_NAME</th>\n",
       "      <th>LSAD</th>\n",
       "      <th>ALAND</th>\n",
       "      <th>AWATER</th>\n",
       "      <th>geometry</th>\n",
       "      <th>county_fips</th>\n",
       "    </tr>\n",
       "  </thead>\n",
       "  <tbody>\n",
       "    <tr>\n",
       "      <th>0</th>\n",
       "      <td>20</td>\n",
       "      <td>161</td>\n",
       "      <td>00485044</td>\n",
       "      <td>0500000US20161</td>\n",
       "      <td>20161</td>\n",
       "      <td>Riley</td>\n",
       "      <td>Riley County</td>\n",
       "      <td>KS</td>\n",
       "      <td>Kansas</td>\n",
       "      <td>06</td>\n",
       "      <td>1579077672</td>\n",
       "      <td>32047392</td>\n",
       "      <td>POLYGON ((-96.96095 39.28670, -96.96106 39.288...</td>\n",
       "      <td>20161</td>\n",
       "    </tr>\n",
       "    <tr>\n",
       "      <th>1</th>\n",
       "      <td>19</td>\n",
       "      <td>159</td>\n",
       "      <td>00465268</td>\n",
       "      <td>0500000US19159</td>\n",
       "      <td>19159</td>\n",
       "      <td>Ringgold</td>\n",
       "      <td>Ringgold County</td>\n",
       "      <td>IA</td>\n",
       "      <td>Iowa</td>\n",
       "      <td>06</td>\n",
       "      <td>1386932347</td>\n",
       "      <td>8723135</td>\n",
       "      <td>POLYGON ((-94.47167 40.81255, -94.47166 40.819...</td>\n",
       "      <td>19159</td>\n",
       "    </tr>\n",
       "    <tr>\n",
       "      <th>2</th>\n",
       "      <td>30</td>\n",
       "      <td>009</td>\n",
       "      <td>01720111</td>\n",
       "      <td>0500000US30009</td>\n",
       "      <td>30009</td>\n",
       "      <td>Carbon</td>\n",
       "      <td>Carbon County</td>\n",
       "      <td>MT</td>\n",
       "      <td>Montana</td>\n",
       "      <td>06</td>\n",
       "      <td>5303728455</td>\n",
       "      <td>35213028</td>\n",
       "      <td>POLYGON ((-109.79867 45.16734, -109.68779 45.1...</td>\n",
       "      <td>30009</td>\n",
       "    </tr>\n",
       "  </tbody>\n",
       "</table>\n",
       "</div>"
      ],
      "text/plain": [
       "  STATEFP COUNTYFP  COUNTYNS        AFFGEOID  GEOID      NAME  \\\n",
       "0      20      161  00485044  0500000US20161  20161     Riley   \n",
       "1      19      159  00465268  0500000US19159  19159  Ringgold   \n",
       "2      30      009  01720111  0500000US30009  30009    Carbon   \n",
       "\n",
       "          NAMELSAD STUSPS STATE_NAME LSAD       ALAND    AWATER  \\\n",
       "0     Riley County     KS     Kansas   06  1579077672  32047392   \n",
       "1  Ringgold County     IA       Iowa   06  1386932347   8723135   \n",
       "2    Carbon County     MT    Montana   06  5303728455  35213028   \n",
       "\n",
       "                                            geometry county_fips  \n",
       "0  POLYGON ((-96.96095 39.28670, -96.96106 39.288...       20161  \n",
       "1  POLYGON ((-94.47167 40.81255, -94.47166 40.819...       19159  \n",
       "2  POLYGON ((-109.79867 45.16734, -109.68779 45.1...       30009  "
      ]
     },
     "execution_count": 3,
     "metadata": {},
     "output_type": "execute_result"
    }
   ],
   "source": [
    "df_counties = gpd.read_file(DATA_DIR + '/source_files/county_shapefiles/counties.shp')\n",
    "df_counties['county_fips'] = df_counties['STATEFP'] + df_counties['COUNTYFP']\n",
    "df_counties = df_counties[((df_counties['STATEFP'] != '02') & (df_counties['STATEFP'] != '15') & \n",
    "                           (df_counties['STATEFP'] != '72') & (df_counties['STATEFP'] != '78') &\n",
    "                           (df_counties['STATEFP'] != '60') & (df_counties['STATEFP'] != '66') &\n",
    "                          (df_counties['STATEFP'] != '69'))]\n",
    "df_counties.head(n=3)"
   ]
  },
  {
   "cell_type": "markdown",
   "id": "4d1954e6-9695-4ba4-b6a0-026de9241008",
   "metadata": {
    "tags": []
   },
   "source": [
    "### Reading InfoUSA data\n",
    "\n",
    "This pre-processed InfoUSA household file is all the merged InfoUSA files combined in processing notebok **01_merging_files**. It contains the children counts of households as well as county FIPS of each household. This file also includes the transformed latitude and longitude coordinates.\n",
    "\n",
    "In this dataset, the ```county_fips``` column represents each individual county; this is the column we will be grouping the children count by. After reading in the data, we filter for only the columns we will need for our visualizations."
   ]
  },
  {
   "cell_type": "code",
   "execution_count": 4,
   "id": "b2d27b30-f032-4624-b2a1-8d254b0f5595",
   "metadata": {},
   "outputs": [
    {
     "data": {
      "text/html": [
       "<div>\n",
       "<style scoped>\n",
       "    .dataframe tbody tr th:only-of-type {\n",
       "        vertical-align: middle;\n",
       "    }\n",
       "\n",
       "    .dataframe tbody tr th {\n",
       "        vertical-align: top;\n",
       "    }\n",
       "\n",
       "    .dataframe thead th {\n",
       "        text-align: right;\n",
       "    }\n",
       "</style>\n",
       "<table border=\"1\" class=\"dataframe\">\n",
       "  <thead>\n",
       "    <tr style=\"text-align: right;\">\n",
       "      <th></th>\n",
       "      <th>zip</th>\n",
       "      <th>county_fips</th>\n",
       "      <th>state</th>\n",
       "      <th>child_num</th>\n",
       "      <th>has_child</th>\n",
       "      <th>age_code</th>\n",
       "      <th>lat_h_4326</th>\n",
       "      <th>lon_h_4326</th>\n",
       "      <th>lat_h_3857</th>\n",
       "      <th>lon_h_3857</th>\n",
       "    </tr>\n",
       "  </thead>\n",
       "  <tbody>\n",
       "    <tr>\n",
       "      <th>0</th>\n",
       "      <td>16965</td>\n",
       "      <td>42269</td>\n",
       "      <td>IN</td>\n",
       "      <td>3</td>\n",
       "      <td>0</td>\n",
       "      <td>C</td>\n",
       "      <td>39.230097</td>\n",
       "      <td>-76.864096</td>\n",
       "      <td>-8.556472e+06</td>\n",
       "      <td>4.754685e+06</td>\n",
       "    </tr>\n",
       "    <tr>\n",
       "      <th>1</th>\n",
       "      <td>79667</td>\n",
       "      <td>08484</td>\n",
       "      <td>NV</td>\n",
       "      <td>5</td>\n",
       "      <td>1</td>\n",
       "      <td>C</td>\n",
       "      <td>44.024061</td>\n",
       "      <td>-96.665285</td>\n",
       "      <td>-1.076073e+07</td>\n",
       "      <td>5.469166e+06</td>\n",
       "    </tr>\n",
       "    <tr>\n",
       "      <th>2</th>\n",
       "      <td>88819</td>\n",
       "      <td>35578</td>\n",
       "      <td>ID</td>\n",
       "      <td>1</td>\n",
       "      <td>1</td>\n",
       "      <td>I</td>\n",
       "      <td>34.490381</td>\n",
       "      <td>-112.402712</td>\n",
       "      <td>-1.251261e+07</td>\n",
       "      <td>4.094840e+06</td>\n",
       "    </tr>\n",
       "    <tr>\n",
       "      <th>3</th>\n",
       "      <td>16748</td>\n",
       "      <td>25538</td>\n",
       "      <td>PA</td>\n",
       "      <td>10</td>\n",
       "      <td>1</td>\n",
       "      <td>K</td>\n",
       "      <td>34.745220</td>\n",
       "      <td>-88.553720</td>\n",
       "      <td>-9.857755e+06</td>\n",
       "      <td>4.129311e+06</td>\n",
       "    </tr>\n",
       "    <tr>\n",
       "      <th>4</th>\n",
       "      <td>43449</td>\n",
       "      <td>11049</td>\n",
       "      <td>NJ</td>\n",
       "      <td>1</td>\n",
       "      <td>1</td>\n",
       "      <td>C</td>\n",
       "      <td>44.178941</td>\n",
       "      <td>-83.250028</td>\n",
       "      <td>-9.267351e+06</td>\n",
       "      <td>5.493176e+06</td>\n",
       "    </tr>\n",
       "  </tbody>\n",
       "</table>\n",
       "</div>"
      ],
      "text/plain": [
       "     zip county_fips state  child_num  has_child age_code  lat_h_4326  \\\n",
       "0  16965       42269    IN          3          0        C   39.230097   \n",
       "1  79667       08484    NV          5          1        C   44.024061   \n",
       "2  88819       35578    ID          1          1        I   34.490381   \n",
       "3  16748       25538    PA         10          1        K   34.745220   \n",
       "4  43449       11049    NJ          1          1        C   44.178941   \n",
       "\n",
       "   lon_h_4326    lat_h_3857    lon_h_3857  \n",
       "0  -76.864096 -8.556472e+06  4.754685e+06  \n",
       "1  -96.665285 -1.076073e+07  5.469166e+06  \n",
       "2 -112.402712 -1.251261e+07  4.094840e+06  \n",
       "3  -88.553720 -9.857755e+06  4.129311e+06  \n",
       "4  -83.250028 -9.267351e+06  5.493176e+06  "
      ]
     },
     "execution_count": 4,
     "metadata": {},
     "output_type": "execute_result"
    }
   ],
   "source": [
    "df_hh = pd.read_parquet(DATA_DIR + '/infousa_merged.parquet')\n",
    "df_hh.head()"
   ]
  },
  {
   "cell_type": "code",
   "execution_count": 5,
   "id": "a70cfc56-1152-4c8c-894f-90373be140e5",
   "metadata": {},
   "outputs": [
    {
     "data": {
      "text/html": [
       "<div>\n",
       "<style scoped>\n",
       "    .dataframe tbody tr th:only-of-type {\n",
       "        vertical-align: middle;\n",
       "    }\n",
       "\n",
       "    .dataframe tbody tr th {\n",
       "        vertical-align: top;\n",
       "    }\n",
       "\n",
       "    .dataframe thead th {\n",
       "        text-align: right;\n",
       "    }\n",
       "</style>\n",
       "<table border=\"1\" class=\"dataframe\">\n",
       "  <thead>\n",
       "    <tr style=\"text-align: right;\">\n",
       "      <th></th>\n",
       "      <th>county_fips</th>\n",
       "      <th>state</th>\n",
       "      <th>child_num</th>\n",
       "      <th>has_child</th>\n",
       "      <th>age_code</th>\n",
       "    </tr>\n",
       "  </thead>\n",
       "  <tbody>\n",
       "    <tr>\n",
       "      <th>0</th>\n",
       "      <td>42269</td>\n",
       "      <td>IN</td>\n",
       "      <td>3</td>\n",
       "      <td>0</td>\n",
       "      <td>C</td>\n",
       "    </tr>\n",
       "    <tr>\n",
       "      <th>1</th>\n",
       "      <td>08484</td>\n",
       "      <td>NV</td>\n",
       "      <td>5</td>\n",
       "      <td>1</td>\n",
       "      <td>C</td>\n",
       "    </tr>\n",
       "    <tr>\n",
       "      <th>2</th>\n",
       "      <td>35578</td>\n",
       "      <td>ID</td>\n",
       "      <td>1</td>\n",
       "      <td>1</td>\n",
       "      <td>I</td>\n",
       "    </tr>\n",
       "    <tr>\n",
       "      <th>3</th>\n",
       "      <td>25538</td>\n",
       "      <td>PA</td>\n",
       "      <td>10</td>\n",
       "      <td>1</td>\n",
       "      <td>K</td>\n",
       "    </tr>\n",
       "    <tr>\n",
       "      <th>4</th>\n",
       "      <td>11049</td>\n",
       "      <td>NJ</td>\n",
       "      <td>1</td>\n",
       "      <td>1</td>\n",
       "      <td>C</td>\n",
       "    </tr>\n",
       "  </tbody>\n",
       "</table>\n",
       "</div>"
      ],
      "text/plain": [
       "  county_fips state  child_num  has_child age_code\n",
       "0       42269    IN          3          0        C\n",
       "1       08484    NV          5          1        C\n",
       "2       35578    ID          1          1        I\n",
       "3       25538    PA         10          1        K\n",
       "4       11049    NJ          1          1        C"
      ]
     },
     "execution_count": 5,
     "metadata": {},
     "output_type": "execute_result"
    }
   ],
   "source": [
    "df_hh = df_hh[['county_fips', 'state', 'child_num', 'has_child', 'age_code']]\n",
    "df_hh.head()"
   ]
  },
  {
   "cell_type": "markdown",
   "id": "aa026316-0955-48ac-bea3-8ae3c656a16b",
   "metadata": {
    "tags": []
   },
   "source": [
    "### Using ```.groupby()``` to find the number of children per county\n",
    "\n",
    "Here, we are taking the dataframe from above and calculating the number of children per county. The ```.groupby()``` method groups the ```df_hh``` by ```county_fips```, and the ```.sum()``` method sums the values in ```child_num``` in each ```county_fips``` group. The resulting dataframe, ```df_child_count```, has the number of children in each county."
   ]
  },
  {
   "cell_type": "code",
   "execution_count": 6,
   "id": "1faf0868-7c42-4da2-ab0a-801e0811e4da",
   "metadata": {},
   "outputs": [
    {
     "data": {
      "text/html": [
       "<div>\n",
       "<style scoped>\n",
       "    .dataframe tbody tr th:only-of-type {\n",
       "        vertical-align: middle;\n",
       "    }\n",
       "\n",
       "    .dataframe tbody tr th {\n",
       "        vertical-align: top;\n",
       "    }\n",
       "\n",
       "    .dataframe thead th {\n",
       "        text-align: right;\n",
       "    }\n",
       "</style>\n",
       "<table border=\"1\" class=\"dataframe\">\n",
       "  <thead>\n",
       "    <tr style=\"text-align: right;\">\n",
       "      <th></th>\n",
       "      <th>county_fips</th>\n",
       "      <th>child_num</th>\n",
       "    </tr>\n",
       "  </thead>\n",
       "  <tbody>\n",
       "    <tr>\n",
       "      <th>0</th>\n",
       "      <td>00000</td>\n",
       "      <td>7</td>\n",
       "    </tr>\n",
       "    <tr>\n",
       "      <th>1</th>\n",
       "      <td>00002</td>\n",
       "      <td>11</td>\n",
       "    </tr>\n",
       "    <tr>\n",
       "      <th>2</th>\n",
       "      <td>00004</td>\n",
       "      <td>28</td>\n",
       "    </tr>\n",
       "    <tr>\n",
       "      <th>3</th>\n",
       "      <td>00005</td>\n",
       "      <td>16</td>\n",
       "    </tr>\n",
       "    <tr>\n",
       "      <th>4</th>\n",
       "      <td>00006</td>\n",
       "      <td>23</td>\n",
       "    </tr>\n",
       "  </tbody>\n",
       "</table>\n",
       "</div>"
      ],
      "text/plain": [
       "  county_fips  child_num\n",
       "0       00000          7\n",
       "1       00002         11\n",
       "2       00004         28\n",
       "3       00005         16\n",
       "4       00006         23"
      ]
     },
     "execution_count": 6,
     "metadata": {},
     "output_type": "execute_result"
    }
   ],
   "source": [
    "df_child_count = df_hh.groupby('county_fips')['child_num'].sum().reset_index()\n",
    "df_child_count.head()"
   ]
  },
  {
   "cell_type": "markdown",
   "id": "3c94565e-d685-4d4a-b561-1a980a936b4e",
   "metadata": {
    "tags": []
   },
   "source": [
    "### Using ```.merge()``` to get processed dataframe\n",
    "\n",
    "In order to map this dataframe visually, we must have a geometry for each county. To do this, we merge ```df_child_count``` from above with ```df_counties``` ```on``` the ```county_fips``` column. Afterwards, we will select only the columns we want to keep in this dataframe and rename column names for standardization purposes before exporting this as a parquet file to be used in future visualizations."
   ]
  },
  {
   "cell_type": "code",
   "execution_count": 7,
   "id": "f09b234f-2136-4d5d-82ee-9e7d491ff0c4",
   "metadata": {},
   "outputs": [
    {
     "data": {
      "text/html": [
       "<div>\n",
       "<style scoped>\n",
       "    .dataframe tbody tr th:only-of-type {\n",
       "        vertical-align: middle;\n",
       "    }\n",
       "\n",
       "    .dataframe tbody tr th {\n",
       "        vertical-align: top;\n",
       "    }\n",
       "\n",
       "    .dataframe thead th {\n",
       "        text-align: right;\n",
       "    }\n",
       "</style>\n",
       "<table border=\"1\" class=\"dataframe\">\n",
       "  <thead>\n",
       "    <tr style=\"text-align: right;\">\n",
       "      <th></th>\n",
       "      <th>STATEFP</th>\n",
       "      <th>COUNTYFP</th>\n",
       "      <th>COUNTYNS</th>\n",
       "      <th>AFFGEOID</th>\n",
       "      <th>GEOID</th>\n",
       "      <th>NAME</th>\n",
       "      <th>NAMELSAD</th>\n",
       "      <th>STUSPS</th>\n",
       "      <th>STATE_NAME</th>\n",
       "      <th>LSAD</th>\n",
       "      <th>ALAND</th>\n",
       "      <th>AWATER</th>\n",
       "      <th>geometry</th>\n",
       "      <th>county_fips</th>\n",
       "      <th>child_num</th>\n",
       "    </tr>\n",
       "  </thead>\n",
       "  <tbody>\n",
       "    <tr>\n",
       "      <th>0</th>\n",
       "      <td>20</td>\n",
       "      <td>161</td>\n",
       "      <td>00485044</td>\n",
       "      <td>0500000US20161</td>\n",
       "      <td>20161</td>\n",
       "      <td>Riley</td>\n",
       "      <td>Riley County</td>\n",
       "      <td>KS</td>\n",
       "      <td>Kansas</td>\n",
       "      <td>06</td>\n",
       "      <td>1579077672</td>\n",
       "      <td>32047392</td>\n",
       "      <td>POLYGON ((-96.96095 39.28670, -96.96106 39.288...</td>\n",
       "      <td>20161</td>\n",
       "      <td>4.0</td>\n",
       "    </tr>\n",
       "    <tr>\n",
       "      <th>1</th>\n",
       "      <td>19</td>\n",
       "      <td>159</td>\n",
       "      <td>00465268</td>\n",
       "      <td>0500000US19159</td>\n",
       "      <td>19159</td>\n",
       "      <td>Ringgold</td>\n",
       "      <td>Ringgold County</td>\n",
       "      <td>IA</td>\n",
       "      <td>Iowa</td>\n",
       "      <td>06</td>\n",
       "      <td>1386932347</td>\n",
       "      <td>8723135</td>\n",
       "      <td>POLYGON ((-94.47167 40.81255, -94.47166 40.819...</td>\n",
       "      <td>19159</td>\n",
       "      <td>28.0</td>\n",
       "    </tr>\n",
       "    <tr>\n",
       "      <th>2</th>\n",
       "      <td>30</td>\n",
       "      <td>009</td>\n",
       "      <td>01720111</td>\n",
       "      <td>0500000US30009</td>\n",
       "      <td>30009</td>\n",
       "      <td>Carbon</td>\n",
       "      <td>Carbon County</td>\n",
       "      <td>MT</td>\n",
       "      <td>Montana</td>\n",
       "      <td>06</td>\n",
       "      <td>5303728455</td>\n",
       "      <td>35213028</td>\n",
       "      <td>POLYGON ((-109.79867 45.16734, -109.68779 45.1...</td>\n",
       "      <td>30009</td>\n",
       "      <td>22.0</td>\n",
       "    </tr>\n",
       "  </tbody>\n",
       "</table>\n",
       "</div>"
      ],
      "text/plain": [
       "  STATEFP COUNTYFP  COUNTYNS        AFFGEOID  GEOID      NAME  \\\n",
       "0      20      161  00485044  0500000US20161  20161     Riley   \n",
       "1      19      159  00465268  0500000US19159  19159  Ringgold   \n",
       "2      30      009  01720111  0500000US30009  30009    Carbon   \n",
       "\n",
       "          NAMELSAD STUSPS STATE_NAME LSAD       ALAND    AWATER  \\\n",
       "0     Riley County     KS     Kansas   06  1579077672  32047392   \n",
       "1  Ringgold County     IA       Iowa   06  1386932347   8723135   \n",
       "2    Carbon County     MT    Montana   06  5303728455  35213028   \n",
       "\n",
       "                                            geometry county_fips  child_num  \n",
       "0  POLYGON ((-96.96095 39.28670, -96.96106 39.288...       20161        4.0  \n",
       "1  POLYGON ((-94.47167 40.81255, -94.47166 40.819...       19159       28.0  \n",
       "2  POLYGON ((-109.79867 45.16734, -109.68779 45.1...       30009       22.0  "
      ]
     },
     "execution_count": 7,
     "metadata": {},
     "output_type": "execute_result"
    }
   ],
   "source": [
    "df = df_counties.merge(df_child_count, on = ['county_fips'], how = 'left')\n",
    "df.head(n=3)"
   ]
  },
  {
   "cell_type": "code",
   "execution_count": 8,
   "id": "2380d0c8-b466-43b7-b20f-8859f420a41b",
   "metadata": {},
   "outputs": [
    {
     "data": {
      "text/html": [
       "<div>\n",
       "<style scoped>\n",
       "    .dataframe tbody tr th:only-of-type {\n",
       "        vertical-align: middle;\n",
       "    }\n",
       "\n",
       "    .dataframe tbody tr th {\n",
       "        vertical-align: top;\n",
       "    }\n",
       "\n",
       "    .dataframe thead th {\n",
       "        text-align: right;\n",
       "    }\n",
       "</style>\n",
       "<table border=\"1\" class=\"dataframe\">\n",
       "  <thead>\n",
       "    <tr style=\"text-align: right;\">\n",
       "      <th></th>\n",
       "      <th>STATEFP</th>\n",
       "      <th>NAME</th>\n",
       "      <th>county_fips</th>\n",
       "      <th>child_num</th>\n",
       "      <th>geometry</th>\n",
       "    </tr>\n",
       "  </thead>\n",
       "  <tbody>\n",
       "    <tr>\n",
       "      <th>0</th>\n",
       "      <td>20</td>\n",
       "      <td>Riley</td>\n",
       "      <td>20161</td>\n",
       "      <td>4.0</td>\n",
       "      <td>POLYGON ((-96.96095 39.28670, -96.96106 39.288...</td>\n",
       "    </tr>\n",
       "    <tr>\n",
       "      <th>1</th>\n",
       "      <td>19</td>\n",
       "      <td>Ringgold</td>\n",
       "      <td>19159</td>\n",
       "      <td>28.0</td>\n",
       "      <td>POLYGON ((-94.47167 40.81255, -94.47166 40.819...</td>\n",
       "    </tr>\n",
       "    <tr>\n",
       "      <th>2</th>\n",
       "      <td>30</td>\n",
       "      <td>Carbon</td>\n",
       "      <td>30009</td>\n",
       "      <td>22.0</td>\n",
       "      <td>POLYGON ((-109.79867 45.16734, -109.68779 45.1...</td>\n",
       "    </tr>\n",
       "    <tr>\n",
       "      <th>3</th>\n",
       "      <td>16</td>\n",
       "      <td>Bear Lake</td>\n",
       "      <td>16007</td>\n",
       "      <td>12.0</td>\n",
       "      <td>POLYGON ((-111.63452 42.57034, -111.63010 42.5...</td>\n",
       "    </tr>\n",
       "    <tr>\n",
       "      <th>4</th>\n",
       "      <td>55</td>\n",
       "      <td>Buffalo</td>\n",
       "      <td>55011</td>\n",
       "      <td>33.0</td>\n",
       "      <td>POLYGON ((-92.08384 44.41200, -92.08310 44.414...</td>\n",
       "    </tr>\n",
       "  </tbody>\n",
       "</table>\n",
       "</div>"
      ],
      "text/plain": [
       "  STATEFP       NAME county_fips  child_num  \\\n",
       "0      20      Riley       20161        4.0   \n",
       "1      19   Ringgold       19159       28.0   \n",
       "2      30     Carbon       30009       22.0   \n",
       "3      16  Bear Lake       16007       12.0   \n",
       "4      55    Buffalo       55011       33.0   \n",
       "\n",
       "                                            geometry  \n",
       "0  POLYGON ((-96.96095 39.28670, -96.96106 39.288...  \n",
       "1  POLYGON ((-94.47167 40.81255, -94.47166 40.819...  \n",
       "2  POLYGON ((-109.79867 45.16734, -109.68779 45.1...  \n",
       "3  POLYGON ((-111.63452 42.57034, -111.63010 42.5...  \n",
       "4  POLYGON ((-92.08384 44.41200, -92.08310 44.414...  "
      ]
     },
     "execution_count": 8,
     "metadata": {},
     "output_type": "execute_result"
    }
   ],
   "source": [
    "df = df[['STATEFP', 'NAME', 'county_fips','child_num', 'geometry']]\n",
    "df.head()"
   ]
  },
  {
   "cell_type": "code",
   "execution_count": 9,
   "id": "f332072d-5a8f-417b-830f-a674e927567c",
   "metadata": {},
   "outputs": [],
   "source": [
    "df.rename(columns = {'STATEFP': 'state', 'NAME': 'county'}, inplace = True)"
   ]
  },
  {
   "cell_type": "code",
   "execution_count": 10,
   "id": "e0cc03a0-cffb-464d-b0d8-b3d723d18174",
   "metadata": {},
   "outputs": [
    {
     "name": "stderr",
     "output_type": "stream",
     "text": [
      "/tmp/ipykernel_3544435/3883968385.py:1: UserWarning: Column names longer than 10 characters will be truncated when saved to ESRI Shapefile.\n",
      "  df.to_file(DATA_DIR + '/children_count_by_county.shp')\n"
     ]
    }
   ],
   "source": [
    "df.to_file(DATA_DIR + '/children_count_by_county.shp')"
   ]
  }
 ],
 "metadata": {
  "kernelspec": {
   "display_name": "Python 3 (ipykernel)",
   "language": "python",
   "name": "python3"
  },
  "language_info": {
   "codemirror_mode": {
    "name": "ipython",
    "version": 3
   },
   "file_extension": ".py",
   "mimetype": "text/x-python",
   "name": "python",
   "nbconvert_exporter": "python",
   "pygments_lexer": "ipython3",
   "version": "3.9.13"
  }
 },
 "nbformat": 4,
 "nbformat_minor": 5
}
