{
 "cells": [
  {
   "cell_type": "markdown",
   "id": "eb17ec0e-f902-4024-9afd-109fd33bdc39",
   "metadata": {
    "tags": []
   },
   "source": [
    "# Using the Random Library to Generate Synthetic Data\n",
    "### Randomly pulling 1% of the original AST dataset\n",
    "The AST dataset provided to us was created by our researcher. However, since it is not published yet, we will not be using the original dataset in this repository. Instead, we've agreed to randomly select 1% of the dataset, which is done here. This notebook *will not run* because the original AST dataset is not included in the repository. We've kept the code for transparency and explanation purposes. The synthetic AST data used throughout this repository is located in ```/data/source_files/ast_files```."
   ]
  },
  {
   "cell_type": "markdown",
   "id": "c8970dbc-7169-4cbf-bf21-f3bf22f8c4d6",
   "metadata": {
    "tags": []
   },
   "source": [
    "### Import statements"
   ]
  },
  {
   "cell_type": "code",
   "execution_count": 1,
   "id": "8b7cf364-ad20-49bd-98da-69b3ad518bde",
   "metadata": {},
   "outputs": [
    {
     "name": "stderr",
     "output_type": "stream",
     "text": [
      "/opt/conda/lib/python3.9/site-packages/geopandas/_compat.py:112: UserWarning: The Shapely GEOS version (3.11.0-CAPI-1.17.0) is incompatible with the GEOS version PyGEOS was compiled with (3.10.1-CAPI-1.16.0). Conversions between both will be slow.\n",
      "  warnings.warn(\n"
     ]
    }
   ],
   "source": [
    "import pandas as pd\n",
    "import geopandas as gpd\n",
    "import os\n",
    "import random"
   ]
  },
  {
   "cell_type": "markdown",
   "id": "dc156cc7-e808-45e7-9cb0-c5ce45ca03ef",
   "metadata": {
    "jp-MarkdownHeadingCollapsed": true,
    "tags": []
   },
   "source": [
    "### Setting ```DATA_DIR```\n",
    "In order to read in files from this repository, we must set ```DATA_DIR``` to be the data folder within this repository. This requires ```os.getcwd()``` to return the path to the processing notebook of this repository, so ```xxx/codeplus-celine-dcc-package/processing```, where ```xxx``` is the path to where you cloned this repository. If it is not, use ```os.chdir(path)``` to change the current working directory to ```xxx/codeplus-celine-dcc-package/processing``` before getting the current working directory in ```DATA_DIR = os.getcwd()```, where ```path``` is ```xxx/codeplus-celine-dcc-package/processing```."
   ]
  },
  {
   "cell_type": "code",
   "execution_count": 4,
   "id": "f039c23f-a583-4ecd-9b8d-35647d9e664d",
   "metadata": {},
   "outputs": [
    {
     "data": {
      "text/plain": [
       "'/hpc/home/at341/ondemand/codeplus-celine-dcc-package/processing'"
      ]
     },
     "execution_count": 4,
     "metadata": {},
     "output_type": "execute_result"
    }
   ],
   "source": [
    "DATA_DIR = os.getcwd()\n",
    "DATA_DIR = DATA_DIR.replace('visualizations', 'data')\n",
    "DATA_DIR"
   ]
  },
  {
   "cell_type": "markdown",
   "id": "32d97621-749c-411f-afac-507448109e17",
   "metadata": {
    "jp-MarkdownHeadingCollapsed": true,
    "tags": []
   },
   "source": [
    "### Reading AST data"
   ]
  },
  {
   "cell_type": "code",
   "execution_count": 2,
   "id": "ee8c4e8a-f240-44ea-9563-d3485c132539",
   "metadata": {},
   "outputs": [
    {
     "data": {
      "text/html": [
       "<div>\n",
       "<style scoped>\n",
       "    .dataframe tbody tr th:only-of-type {\n",
       "        vertical-align: middle;\n",
       "    }\n",
       "\n",
       "    .dataframe tbody tr th {\n",
       "        vertical-align: top;\n",
       "    }\n",
       "\n",
       "    .dataframe thead th {\n",
       "        text-align: right;\n",
       "    }\n",
       "</style>\n",
       "<table border=\"1\" class=\"dataframe\">\n",
       "  <thead>\n",
       "    <tr style=\"text-align: right;\">\n",
       "      <th></th>\n",
       "      <th>tile_name</th>\n",
       "      <th>minx_polyg</th>\n",
       "      <th>miny_polyg</th>\n",
       "      <th>maxx_polyg</th>\n",
       "      <th>maxy_polyg</th>\n",
       "      <th>nw_corner_</th>\n",
       "      <th>nw_corne_1</th>\n",
       "      <th>se_corner_</th>\n",
       "      <th>se_corne_1</th>\n",
       "      <th>object_cla</th>\n",
       "      <th>diameter (</th>\n",
       "      <th>merged_bbo</th>\n",
       "      <th>bbox_withi</th>\n",
       "      <th>Category1</th>\n",
       "      <th>Category2</th>\n",
       "      <th>Category3</th>\n",
       "      <th>Category4</th>\n",
       "      <th>Category5</th>\n",
       "      <th>state</th>\n",
       "      <th>geometry</th>\n",
       "    </tr>\n",
       "  </thead>\n",
       "  <tbody>\n",
       "    <tr>\n",
       "      <th>0</th>\n",
       "      <td>m_4007327_nw_18_060_20190809</td>\n",
       "      <td>974</td>\n",
       "      <td>314</td>\n",
       "      <td>1041</td>\n",
       "      <td>380</td>\n",
       "      <td>40.625753</td>\n",
       "      <td>-73.745466</td>\n",
       "      <td>40.625392</td>\n",
       "      <td>-73.744997</td>\n",
       "      <td>closed_roof_tank</td>\n",
       "      <td>39.6</td>\n",
       "      <td>1</td>\n",
       "      <td>0</td>\n",
       "      <td>0.0</td>\n",
       "      <td>0.0</td>\n",
       "      <td>0.0</td>\n",
       "      <td>0.0</td>\n",
       "      <td>0.0</td>\n",
       "      <td>New York</td>\n",
       "      <td>POLYGON ((-73.74547 40.62575, -73.74500 40.625...</td>\n",
       "    </tr>\n",
       "    <tr>\n",
       "      <th>1</th>\n",
       "      <td>m_4007327_nw_18_060_20190809</td>\n",
       "      <td>1091</td>\n",
       "      <td>479</td>\n",
       "      <td>1157</td>\n",
       "      <td>512</td>\n",
       "      <td>40.624853</td>\n",
       "      <td>-73.744652</td>\n",
       "      <td>40.624669</td>\n",
       "      <td>-73.744188</td>\n",
       "      <td>closed_roof_tank</td>\n",
       "      <td>19.8</td>\n",
       "      <td>0</td>\n",
       "      <td>0</td>\n",
       "      <td>0.0</td>\n",
       "      <td>0.0</td>\n",
       "      <td>0.0</td>\n",
       "      <td>0.0</td>\n",
       "      <td>0.0</td>\n",
       "      <td>New York</td>\n",
       "      <td>POLYGON ((-73.74465 40.62485, -73.74419 40.624...</td>\n",
       "    </tr>\n",
       "    <tr>\n",
       "      <th>2</th>\n",
       "      <td>m_4007327_nw_18_060_20190809</td>\n",
       "      <td>851</td>\n",
       "      <td>243</td>\n",
       "      <td>872</td>\n",
       "      <td>265</td>\n",
       "      <td>40.626147</td>\n",
       "      <td>-73.746331</td>\n",
       "      <td>40.626026</td>\n",
       "      <td>-73.746184</td>\n",
       "      <td>closed_roof_tank</td>\n",
       "      <td>12.6</td>\n",
       "      <td>0</td>\n",
       "      <td>0</td>\n",
       "      <td>0.0</td>\n",
       "      <td>0.0</td>\n",
       "      <td>0.0</td>\n",
       "      <td>0.0</td>\n",
       "      <td>0.0</td>\n",
       "      <td>New York</td>\n",
       "      <td>POLYGON ((-73.74633 40.62615, -73.74618 40.626...</td>\n",
       "    </tr>\n",
       "  </tbody>\n",
       "</table>\n",
       "</div>"
      ],
      "text/plain": [
       "                      tile_name  minx_polyg  miny_polyg  maxx_polyg  \\\n",
       "0  m_4007327_nw_18_060_20190809         974         314        1041   \n",
       "1  m_4007327_nw_18_060_20190809        1091         479        1157   \n",
       "2  m_4007327_nw_18_060_20190809         851         243         872   \n",
       "\n",
       "   maxy_polyg  nw_corner_  nw_corne_1  se_corner_  se_corne_1  \\\n",
       "0         380   40.625753  -73.745466   40.625392  -73.744997   \n",
       "1         512   40.624853  -73.744652   40.624669  -73.744188   \n",
       "2         265   40.626147  -73.746331   40.626026  -73.746184   \n",
       "\n",
       "         object_cla  diameter (  merged_bbo  bbox_withi  Category1  Category2  \\\n",
       "0  closed_roof_tank        39.6           1           0        0.0        0.0   \n",
       "1  closed_roof_tank        19.8           0           0        0.0        0.0   \n",
       "2  closed_roof_tank        12.6           0           0        0.0        0.0   \n",
       "\n",
       "   Category3  Category4  Category5     state  \\\n",
       "0        0.0        0.0        0.0  New York   \n",
       "1        0.0        0.0        0.0  New York   \n",
       "2        0.0        0.0        0.0  New York   \n",
       "\n",
       "                                            geometry  \n",
       "0  POLYGON ((-73.74547 40.62575, -73.74500 40.625...  \n",
       "1  POLYGON ((-73.74465 40.62485, -73.74419 40.624...  \n",
       "2  POLYGON ((-73.74633 40.62615, -73.74618 40.626...  "
      ]
     },
     "execution_count": 2,
     "metadata": {},
     "output_type": "execute_result"
    }
   ],
   "source": [
    "df_tanks = gpd.read_file('/hpc/group/codeplus22-vis/ast_dataset/tile_level_annotations.shp')\n",
    "df_tanks.head(n=3)"
   ]
  },
  {
   "cell_type": "markdown",
   "id": "ed238b21-c9af-4035-b967-59069315dd5f",
   "metadata": {
    "tags": []
   },
   "source": [
    "### Using random's ```.sample()``` to randomly select 1% of rows from the original AST dataset\n",
    "Then saving this as a file in ```/data/source_files/ast_files```."
   ]
  },
  {
   "cell_type": "code",
   "execution_count": 5,
   "id": "c84d2667-06f0-49e6-aa5a-d9eb200c6409",
   "metadata": {},
   "outputs": [],
   "source": [
    "random.seed(1)\n",
    "df_tanks_sample = df_tanks.sample(frac = 0.01)\n",
    "df_tanks_sample = df_tanks_sample.reset_index(drop = True)\n",
    "df_tanks_sample.to_file('/hpc/group/codeplus22-vis/synthetic_data/synthetic_ast/ast_synthetic.shp')"
   ]
  },
  {
   "cell_type": "code",
   "execution_count": 3,
   "id": "9ea63d29-804e-43ad-ad95-79d56b5a00c0",
   "metadata": {},
   "outputs": [
    {
     "data": {
      "text/html": [
       "<div>\n",
       "<style scoped>\n",
       "    .dataframe tbody tr th:only-of-type {\n",
       "        vertical-align: middle;\n",
       "    }\n",
       "\n",
       "    .dataframe tbody tr th {\n",
       "        vertical-align: top;\n",
       "    }\n",
       "\n",
       "    .dataframe thead th {\n",
       "        text-align: right;\n",
       "    }\n",
       "</style>\n",
       "<table border=\"1\" class=\"dataframe\">\n",
       "  <thead>\n",
       "    <tr style=\"text-align: right;\">\n",
       "      <th></th>\n",
       "      <th>tile_name</th>\n",
       "      <th>minx_polyg</th>\n",
       "      <th>miny_polyg</th>\n",
       "      <th>maxx_polyg</th>\n",
       "      <th>maxy_polyg</th>\n",
       "      <th>nw_corner_</th>\n",
       "      <th>nw_corne_1</th>\n",
       "      <th>se_corner_</th>\n",
       "      <th>se_corne_1</th>\n",
       "      <th>object_cla</th>\n",
       "      <th>diameter (</th>\n",
       "      <th>merged_bbo</th>\n",
       "      <th>bbox_withi</th>\n",
       "      <th>Category1</th>\n",
       "      <th>Category2</th>\n",
       "      <th>Category3</th>\n",
       "      <th>Category4</th>\n",
       "      <th>Category5</th>\n",
       "      <th>state</th>\n",
       "      <th>geometry</th>\n",
       "    </tr>\n",
       "  </thead>\n",
       "  <tbody>\n",
       "    <tr>\n",
       "      <th>0</th>\n",
       "      <td>m_3009139_ne_15_060_20190726</td>\n",
       "      <td>283</td>\n",
       "      <td>280</td>\n",
       "      <td>291</td>\n",
       "      <td>315</td>\n",
       "      <td>30.502086</td>\n",
       "      <td>-91.188319</td>\n",
       "      <td>30.501896</td>\n",
       "      <td>-91.188273</td>\n",
       "      <td>closed_roof_tank</td>\n",
       "      <td>4.8</td>\n",
       "      <td>0</td>\n",
       "      <td>0</td>\n",
       "      <td>0.0</td>\n",
       "      <td>0.0</td>\n",
       "      <td>0.0</td>\n",
       "      <td>0.0</td>\n",
       "      <td>0.0</td>\n",
       "      <td>Louisiana</td>\n",
       "      <td>POLYGON ((-91.18832 30.50209, -91.18827 30.502...</td>\n",
       "    </tr>\n",
       "    <tr>\n",
       "      <th>1</th>\n",
       "      <td>m_2909005_ne_15_060_20190707</td>\n",
       "      <td>7130</td>\n",
       "      <td>2364</td>\n",
       "      <td>7181</td>\n",
       "      <td>2414</td>\n",
       "      <td>29.990328</td>\n",
       "      <td>-90.396031</td>\n",
       "      <td>29.990051</td>\n",
       "      <td>-90.395721</td>\n",
       "      <td>closed_roof_tank</td>\n",
       "      <td>30.0</td>\n",
       "      <td>1</td>\n",
       "      <td>0</td>\n",
       "      <td>0.0</td>\n",
       "      <td>0.0</td>\n",
       "      <td>0.0</td>\n",
       "      <td>0.0</td>\n",
       "      <td>0.0</td>\n",
       "      <td>Louisiana</td>\n",
       "      <td>POLYGON ((-90.39603 29.99033, -90.39572 29.990...</td>\n",
       "    </tr>\n",
       "    <tr>\n",
       "      <th>2</th>\n",
       "      <td>m_3408350_ne_17_060_20191023</td>\n",
       "      <td>4910</td>\n",
       "      <td>5661</td>\n",
       "      <td>4944</td>\n",
       "      <td>5696</td>\n",
       "      <td>34.221846</td>\n",
       "      <td>-83.783836</td>\n",
       "      <td>34.221662</td>\n",
       "      <td>-83.783608</td>\n",
       "      <td>closed_roof_tank</td>\n",
       "      <td>20.4</td>\n",
       "      <td>1</td>\n",
       "      <td>0</td>\n",
       "      <td>0.0</td>\n",
       "      <td>0.0</td>\n",
       "      <td>0.0</td>\n",
       "      <td>0.0</td>\n",
       "      <td>0.0</td>\n",
       "      <td>Georgia</td>\n",
       "      <td>POLYGON ((-83.78384 34.22185, -83.78361 34.221...</td>\n",
       "    </tr>\n",
       "  </tbody>\n",
       "</table>\n",
       "</div>"
      ],
      "text/plain": [
       "                      tile_name  minx_polyg  miny_polyg  maxx_polyg  \\\n",
       "0  m_3009139_ne_15_060_20190726         283         280         291   \n",
       "1  m_2909005_ne_15_060_20190707        7130        2364        7181   \n",
       "2  m_3408350_ne_17_060_20191023        4910        5661        4944   \n",
       "\n",
       "   maxy_polyg  nw_corner_  nw_corne_1  se_corner_  se_corne_1  \\\n",
       "0         315   30.502086  -91.188319   30.501896  -91.188273   \n",
       "1        2414   29.990328  -90.396031   29.990051  -90.395721   \n",
       "2        5696   34.221846  -83.783836   34.221662  -83.783608   \n",
       "\n",
       "         object_cla  diameter (  merged_bbo  bbox_withi  Category1  Category2  \\\n",
       "0  closed_roof_tank         4.8           0           0        0.0        0.0   \n",
       "1  closed_roof_tank        30.0           1           0        0.0        0.0   \n",
       "2  closed_roof_tank        20.4           1           0        0.0        0.0   \n",
       "\n",
       "   Category3  Category4  Category5      state  \\\n",
       "0        0.0        0.0        0.0  Louisiana   \n",
       "1        0.0        0.0        0.0  Louisiana   \n",
       "2        0.0        0.0        0.0    Georgia   \n",
       "\n",
       "                                            geometry  \n",
       "0  POLYGON ((-91.18832 30.50209, -91.18827 30.502...  \n",
       "1  POLYGON ((-90.39603 29.99033, -90.39572 29.990...  \n",
       "2  POLYGON ((-83.78384 34.22185, -83.78361 34.221...  "
      ]
     },
     "execution_count": 3,
     "metadata": {},
     "output_type": "execute_result"
    }
   ],
   "source": [
    "df_tanks = gpd.read_file('/hpc/group/codeplus22-vis/synthetic_data/synthetic_ast/ast_synthetic.shp')\n",
    "df_tanks.head(n=3)"
   ]
  }
 ],
 "metadata": {
  "kernelspec": {
   "display_name": "Python 3 (ipykernel)",
   "language": "python",
   "name": "python3"
  },
  "language_info": {
   "codemirror_mode": {
    "name": "ipython",
    "version": 3
   },
   "file_extension": ".py",
   "mimetype": "text/x-python",
   "name": "python",
   "nbconvert_exporter": "python",
   "pygments_lexer": "ipython3",
   "version": "3.9.13"
  }
 },
 "nbformat": 4,
 "nbformat_minor": 5
}
