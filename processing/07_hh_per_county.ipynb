{
 "cells": [
  {
   "cell_type": "markdown",
   "id": "5fb6c5af-bdea-4c75-a7af-b349e4d81df1",
   "metadata": {},
   "source": [
    "# Using GeoPandas' ```.sjoin()``` to Count the Number of Points Within a Geometry\n",
    "### Calculating the number of households within certain distances from tanks for each county"
   ]
  },
  {
   "cell_type": "markdown",
   "id": "89df5ae8-4728-4b1c-b4bf-f0be667a7fe0",
   "metadata": {
    "tags": []
   },
   "source": [
    "### Import statements"
   ]
  },
  {
   "cell_type": "code",
   "execution_count": 1,
   "id": "8ec80630-4c95-4488-997f-031b7d2c85e5",
   "metadata": {},
   "outputs": [],
   "source": [
    "import warnings\n",
    "warnings.filterwarnings('ignore')"
   ]
  },
  {
   "cell_type": "code",
   "execution_count": 2,
   "id": "7668ce35-c98f-47b4-999e-78af94d48dc0",
   "metadata": {},
   "outputs": [],
   "source": [
    "import pandas as pd\n",
    "import geopandas as gpd\n",
    "import dask\n",
    "from dask import dataframe as dd\n",
    "import dask_geopandas\n",
    "import os"
   ]
  },
  {
   "cell_type": "markdown",
   "id": "39550477-9f5f-49d5-8423-a47e9e661fa3",
   "metadata": {
    "tags": []
   },
   "source": [
    "### Setting ```DATA_DIR```\n",
    "In order to read in files from this repository, we must set ```DATA_DIR``` to be the data folder within this repository. This requires ```os.getcwd()``` to return the path to the processing notebook of this repository, so ```xxx/codeplus-celine-dcc-package/procesing```, where ```xxx``` is the path to where you cloned this repository. If it is not, use ```os.chdir(path)``` to change the current working directory to ```xxx/codeplus-celine-dcc-package/procesing``` before getting the current working directory in ```DATA_DIR = os.getcwd()```, where ```path``` is ```xxx/codeplus-celine-dcc-package/procesing```."
   ]
  },
  {
   "cell_type": "code",
   "execution_count": 3,
   "id": "7426c137-bed5-4cb6-b1ad-fed29ec43277",
   "metadata": {},
   "outputs": [
    {
     "data": {
      "text/plain": [
       "'/hpc/home/at341/ondemand/codeplus-celine-dcc-package/data'"
      ]
     },
     "execution_count": 3,
     "metadata": {},
     "output_type": "execute_result"
    }
   ],
   "source": [
    "DATA_DIR = os.getcwd()\n",
    "DATA_DIR = DATA_DIR.replace('processing', 'data')\n",
    "DATA_DIR"
   ]
  },
  {
   "cell_type": "markdown",
   "id": "557e74a7-989e-45ad-b19a-9f99fd8fc73c",
   "metadata": {
    "tags": []
   },
   "source": [
    "### Reading county shapefile dataframe\n",
    "To count the number of households within five miles of a storage tank for each county, we use GeoPandas' ```.sjoin()``` method. Using this method, we will perform a spatial join between each county's geometry and the dataframe including Point geometries for each household in the US. For this, we need a dataframe with geometries for all counties in the US- which we took from the United States Census Bureau's Cartographic Boundary Files (available [here](https://www.census.gov/geographies/mapping-files/time-series/geo/carto-boundary-file.html)). Then, we filter to exclude counties from Alaska, Hawaii, Puerto Rico, Virgin Islands, American Samoa, Guam, Northern Marian Islands, as there are no tanks in those regions in the AST dataset. We also drop unnecessary columns."
   ]
  },
  {
   "cell_type": "code",
   "execution_count": 4,
   "id": "50e1864f-c171-4499-bf75-b18d763819af",
   "metadata": {},
   "outputs": [
    {
     "data": {
      "text/html": [
       "<div>\n",
       "<style scoped>\n",
       "    .dataframe tbody tr th:only-of-type {\n",
       "        vertical-align: middle;\n",
       "    }\n",
       "\n",
       "    .dataframe tbody tr th {\n",
       "        vertical-align: top;\n",
       "    }\n",
       "\n",
       "    .dataframe thead th {\n",
       "        text-align: right;\n",
       "    }\n",
       "</style>\n",
       "<table border=\"1\" class=\"dataframe\">\n",
       "  <thead>\n",
       "    <tr style=\"text-align: right;\">\n",
       "      <th></th>\n",
       "      <th>county</th>\n",
       "      <th>geometry</th>\n",
       "    </tr>\n",
       "  </thead>\n",
       "  <tbody>\n",
       "    <tr>\n",
       "      <th>0</th>\n",
       "      <td>Riley</td>\n",
       "      <td>POLYGON ((-96.96095 39.28670, -96.96106 39.288...</td>\n",
       "    </tr>\n",
       "    <tr>\n",
       "      <th>1</th>\n",
       "      <td>Ringgold</td>\n",
       "      <td>POLYGON ((-94.47167 40.81255, -94.47166 40.819...</td>\n",
       "    </tr>\n",
       "    <tr>\n",
       "      <th>2</th>\n",
       "      <td>Carbon</td>\n",
       "      <td>POLYGON ((-109.79867 45.16734, -109.68779 45.1...</td>\n",
       "    </tr>\n",
       "    <tr>\n",
       "      <th>3</th>\n",
       "      <td>Bear Lake</td>\n",
       "      <td>POLYGON ((-111.63452 42.57034, -111.63010 42.5...</td>\n",
       "    </tr>\n",
       "    <tr>\n",
       "      <th>4</th>\n",
       "      <td>Buffalo</td>\n",
       "      <td>POLYGON ((-92.08384 44.41200, -92.08310 44.414...</td>\n",
       "    </tr>\n",
       "  </tbody>\n",
       "</table>\n",
       "</div>"
      ],
      "text/plain": [
       "      county                                           geometry\n",
       "0      Riley  POLYGON ((-96.96095 39.28670, -96.96106 39.288...\n",
       "1   Ringgold  POLYGON ((-94.47167 40.81255, -94.47166 40.819...\n",
       "2     Carbon  POLYGON ((-109.79867 45.16734, -109.68779 45.1...\n",
       "3  Bear Lake  POLYGON ((-111.63452 42.57034, -111.63010 42.5...\n",
       "4    Buffalo  POLYGON ((-92.08384 44.41200, -92.08310 44.414..."
      ]
     },
     "execution_count": 4,
     "metadata": {},
     "output_type": "execute_result"
    }
   ],
   "source": [
    "df_counties = gpd.read_file(DATA_DIR + '/source_files/county_shapefiles/counties.shp')\n",
    "df_counties = df_counties[((df_counties['STATEFP'] != '02') & (df_counties['STATEFP'] != '15') & \n",
    "                          (df_counties['STATEFP'] != '72') & (df_counties['STATEFP'] != '78') & \n",
    "                          (df_counties['STATEFP'] != '60') & (df_counties['STATEFP'] != '66') & \n",
    "                          (df_counties['STATEFP'] != '69'))]\n",
    "df_counties = df_counties[['NAME', 'geometry']]\n",
    "df_counties.rename(columns = {'NAME': 'county'}, inplace = True)\n",
    "df_counties.head()"
   ]
  },
  {
   "cell_type": "markdown",
   "id": "71404c79-c71a-41a1-abc4-ee57e477a793",
   "metadata": {
    "tags": []
   },
   "source": [
    "### Reading InfoUSA Data (pre-processed)\n",
    "This InfoUSA data was preprocessed to include the distance between each household and the nearest tank. To understand how it was processed in more detail, visit processing notebok **05_all_us_dist_processing**. We need this information to filter for only households within five miles of a storage tank, which we do below."
   ]
  },
  {
   "cell_type": "code",
   "execution_count": 5,
   "id": "a6f23dca-e9de-4b73-b427-a0a36611add7",
   "metadata": {},
   "outputs": [
    {
     "data": {
      "text/html": [
       "<div>\n",
       "<style scoped>\n",
       "    .dataframe tbody tr th:only-of-type {\n",
       "        vertical-align: middle;\n",
       "    }\n",
       "\n",
       "    .dataframe tbody tr th {\n",
       "        vertical-align: top;\n",
       "    }\n",
       "\n",
       "    .dataframe thead th {\n",
       "        text-align: right;\n",
       "    }\n",
       "</style>\n",
       "<table border=\"1\" class=\"dataframe\">\n",
       "  <thead>\n",
       "    <tr style=\"text-align: right;\">\n",
       "      <th></th>\n",
       "      <th>zip</th>\n",
       "      <th>county_fips</th>\n",
       "      <th>state</th>\n",
       "      <th>child_num</th>\n",
       "      <th>age_code</th>\n",
       "      <th>lat_h_3857</th>\n",
       "      <th>lon_h_3857</th>\n",
       "      <th>lat_h_4326</th>\n",
       "      <th>lon_h_4326</th>\n",
       "      <th>erqk_risks</th>\n",
       "      <th>swnd_risks</th>\n",
       "      <th>hrcn_risks</th>\n",
       "      <th>trnd_risks</th>\n",
       "      <th>cfld_risks</th>\n",
       "      <th>rfld_risks</th>\n",
       "      <th>avg_risk</th>\n",
       "      <th>distance_m</th>\n",
       "      <th>distance_mi</th>\n",
       "      <th>distance_category</th>\n",
       "    </tr>\n",
       "  </thead>\n",
       "  <tbody>\n",
       "    <tr>\n",
       "      <th>0</th>\n",
       "      <td>16965</td>\n",
       "      <td>42269</td>\n",
       "      <td>IN</td>\n",
       "      <td>3</td>\n",
       "      <td>C</td>\n",
       "      <td>-8.556472e+06</td>\n",
       "      <td>4.754685e+06</td>\n",
       "      <td>39.230097</td>\n",
       "      <td>-76.864096</td>\n",
       "      <td>7.975933</td>\n",
       "      <td>32.552888</td>\n",
       "      <td>23.825800</td>\n",
       "      <td>45.694335</td>\n",
       "      <td>3.543941</td>\n",
       "      <td>17.889439</td>\n",
       "      <td>21.913723</td>\n",
       "      <td>2.410337e+04</td>\n",
       "      <td>14.977140</td>\n",
       "      <td>4</td>\n",
       "    </tr>\n",
       "    <tr>\n",
       "      <th>1</th>\n",
       "      <td>79667</td>\n",
       "      <td>08484</td>\n",
       "      <td>NV</td>\n",
       "      <td>5</td>\n",
       "      <td>C</td>\n",
       "      <td>-1.076073e+07</td>\n",
       "      <td>5.469166e+06</td>\n",
       "      <td>44.024061</td>\n",
       "      <td>-96.665285</td>\n",
       "      <td>6.897670</td>\n",
       "      <td>11.518197</td>\n",
       "      <td>-1.000000</td>\n",
       "      <td>4.252650</td>\n",
       "      <td>-1.000000</td>\n",
       "      <td>9.396389</td>\n",
       "      <td>5.344151</td>\n",
       "      <td>1.307560e+06</td>\n",
       "      <td>812.480090</td>\n",
       "      <td>4</td>\n",
       "    </tr>\n",
       "    <tr>\n",
       "      <th>2</th>\n",
       "      <td>88819</td>\n",
       "      <td>35578</td>\n",
       "      <td>ID</td>\n",
       "      <td>1</td>\n",
       "      <td>I</td>\n",
       "      <td>-1.251261e+07</td>\n",
       "      <td>4.094840e+06</td>\n",
       "      <td>34.490381</td>\n",
       "      <td>-112.402712</td>\n",
       "      <td>0.509994</td>\n",
       "      <td>8.385226</td>\n",
       "      <td>5.089364</td>\n",
       "      <td>9.677147</td>\n",
       "      <td>-1.000000</td>\n",
       "      <td>10.415246</td>\n",
       "      <td>5.679496</td>\n",
       "      <td>1.503771e+06</td>\n",
       "      <td>934.400050</td>\n",
       "      <td>4</td>\n",
       "    </tr>\n",
       "    <tr>\n",
       "      <th>3</th>\n",
       "      <td>16748</td>\n",
       "      <td>25538</td>\n",
       "      <td>PA</td>\n",
       "      <td>10</td>\n",
       "      <td>K</td>\n",
       "      <td>-9.857755e+06</td>\n",
       "      <td>4.129311e+06</td>\n",
       "      <td>34.745220</td>\n",
       "      <td>-88.553720</td>\n",
       "      <td>1.289903</td>\n",
       "      <td>15.693502</td>\n",
       "      <td>3.403131</td>\n",
       "      <td>19.224199</td>\n",
       "      <td>-1.000000</td>\n",
       "      <td>8.517747</td>\n",
       "      <td>8.021414</td>\n",
       "      <td>8.193696e+05</td>\n",
       "      <td>509.132686</td>\n",
       "      <td>4</td>\n",
       "    </tr>\n",
       "    <tr>\n",
       "      <th>4</th>\n",
       "      <td>43449</td>\n",
       "      <td>11049</td>\n",
       "      <td>NJ</td>\n",
       "      <td>1</td>\n",
       "      <td>C</td>\n",
       "      <td>-9.267351e+06</td>\n",
       "      <td>5.493176e+06</td>\n",
       "      <td>44.178941</td>\n",
       "      <td>-83.250028</td>\n",
       "      <td>2.205648</td>\n",
       "      <td>26.709422</td>\n",
       "      <td>5.171142</td>\n",
       "      <td>17.753031</td>\n",
       "      <td>0.000000</td>\n",
       "      <td>8.982879</td>\n",
       "      <td>10.137020</td>\n",
       "      <td>7.857940e+04</td>\n",
       "      <td>48.826977</td>\n",
       "      <td>4</td>\n",
       "    </tr>\n",
       "  </tbody>\n",
       "</table>\n",
       "</div>"
      ],
      "text/plain": [
       "     zip county_fips state  child_num age_code    lat_h_3857    lon_h_3857  \\\n",
       "0  16965       42269    IN          3        C -8.556472e+06  4.754685e+06   \n",
       "1  79667       08484    NV          5        C -1.076073e+07  5.469166e+06   \n",
       "2  88819       35578    ID          1        I -1.251261e+07  4.094840e+06   \n",
       "3  16748       25538    PA         10        K -9.857755e+06  4.129311e+06   \n",
       "4  43449       11049    NJ          1        C -9.267351e+06  5.493176e+06   \n",
       "\n",
       "   lat_h_4326  lon_h_4326  erqk_risks  swnd_risks  hrcn_risks  trnd_risks  \\\n",
       "0   39.230097  -76.864096    7.975933   32.552888   23.825800   45.694335   \n",
       "1   44.024061  -96.665285    6.897670   11.518197   -1.000000    4.252650   \n",
       "2   34.490381 -112.402712    0.509994    8.385226    5.089364    9.677147   \n",
       "3   34.745220  -88.553720    1.289903   15.693502    3.403131   19.224199   \n",
       "4   44.178941  -83.250028    2.205648   26.709422    5.171142   17.753031   \n",
       "\n",
       "   cfld_risks  rfld_risks   avg_risk    distance_m  distance_mi  \\\n",
       "0    3.543941   17.889439  21.913723  2.410337e+04    14.977140   \n",
       "1   -1.000000    9.396389   5.344151  1.307560e+06   812.480090   \n",
       "2   -1.000000   10.415246   5.679496  1.503771e+06   934.400050   \n",
       "3   -1.000000    8.517747   8.021414  8.193696e+05   509.132686   \n",
       "4    0.000000    8.982879  10.137020  7.857940e+04    48.826977   \n",
       "\n",
       "   distance_category  \n",
       "0                  4  \n",
       "1                  4  \n",
       "2                  4  \n",
       "3                  4  \n",
       "4                  4  "
      ]
     },
     "execution_count": 5,
     "metadata": {},
     "output_type": "execute_result"
    }
   ],
   "source": [
    "df_hh = pd.read_parquet(DATA_DIR + '/distances_all_hh.parquet')\n",
    "df_hh.head()"
   ]
  },
  {
   "cell_type": "markdown",
   "id": "c7d6d98d-d472-4574-8107-e64100933c53",
   "metadata": {},
   "source": [
    "We also only keep the ```lat_h_4326``` and ```lon_h_4326``` columns because these are the coordinates for each household we will use to create the Point geometries for each household in the households GeoDataFrame. We use the coordinates in EPSG 4326 rather than the coordinates in EPSG 3857 because the geometries in the ```df_counties``` GeoDataFrame are in EPSG 4326. The coordinate system must remain consistent in order to get accurate results when performing the spatial join with ```.sjoin()```."
   ]
  },
  {
   "cell_type": "code",
   "execution_count": 6,
   "id": "cc7c279b-2f8d-4846-bff3-f6f7a52f06b4",
   "metadata": {},
   "outputs": [
    {
     "data": {
      "text/html": [
       "<div>\n",
       "<style scoped>\n",
       "    .dataframe tbody tr th:only-of-type {\n",
       "        vertical-align: middle;\n",
       "    }\n",
       "\n",
       "    .dataframe tbody tr th {\n",
       "        vertical-align: top;\n",
       "    }\n",
       "\n",
       "    .dataframe thead th {\n",
       "        text-align: right;\n",
       "    }\n",
       "</style>\n",
       "<table border=\"1\" class=\"dataframe\">\n",
       "  <thead>\n",
       "    <tr style=\"text-align: right;\">\n",
       "      <th></th>\n",
       "      <th>lat_h_4326</th>\n",
       "      <th>lon_h_4326</th>\n",
       "      <th>distance_category</th>\n",
       "    </tr>\n",
       "  </thead>\n",
       "  <tbody>\n",
       "    <tr>\n",
       "      <th>66795</th>\n",
       "      <td>36.195148</td>\n",
       "      <td>-114.966174</td>\n",
       "      <td>3</td>\n",
       "    </tr>\n",
       "  </tbody>\n",
       "</table>\n",
       "</div>"
      ],
      "text/plain": [
       "       lat_h_4326  lon_h_4326  distance_category\n",
       "66795   36.195148 -114.966174                  3"
      ]
     },
     "execution_count": 6,
     "metadata": {},
     "output_type": "execute_result"
    }
   ],
   "source": [
    "df_hh = df_hh[['lat_h_4326', 'lon_h_4326', 'distance_category']]\n",
    "df_hh = df_hh[df_hh['distance_category'] != 4]\n",
    "df_hh.head()"
   ]
  },
  {
   "cell_type": "markdown",
   "id": "0cc7cf31-be0a-4e8c-a189-b830a0c73852",
   "metadata": {
    "tags": []
   },
   "source": [
    "### Use Dask to transform pandas dataframe to a geopandas dataframe\n",
    "To perform a spatial join between two dataframes, each of these dataframes must be GeoDataFrames- thus, we must convert our ```df_hh``` dataframe to a GeoDataFrame. However, as this dataframe has more than 17 million rows, converting it without using Dask is not time-efficient. Hence, we turned to Dask, an open-source Python library for parallel computing. It allows us to efficiently execute the transformation of our dataframe to a GeoDataFrame, even when working with over 17 million rows. \n",
    "\n",
    "To use Dask, we first converted our dataframe to a Dask dataframe, using Dask's ```.from_pandas()``` method. This method takes in our pandas dataframe along with the ```npartitions``` parameter, which is used to specify the number of 'sections' the dask dataframe will be split into.\n",
    "\n",
    "Note: using the test, synthetic InfoUSA data in this repository, we only have around 1 million rows instead of 17 million rows. Dask is still suggested for time efficiency, as that is still a large number of observations."
   ]
  },
  {
   "cell_type": "code",
   "execution_count": 7,
   "id": "84911441-f06d-4322-9450-67a612306fd0",
   "metadata": {},
   "outputs": [],
   "source": [
    "df_dask = dd.from_pandas(df_hh, npartitions = 500)"
   ]
  },
  {
   "cell_type": "markdown",
   "id": "9f7620e1-93d7-40dd-9674-ab5c2b22eaf9",
   "metadata": {},
   "source": [
    "Then, we specify what manipulation to the dask dataframe ```df_dask``` to compute. In this case, we use Dask Geopandas' ```.points_from_xy()``` method to convert the pandas dask dataframe into a geopandas dask dataframe."
   ]
  },
  {
   "cell_type": "code",
   "execution_count": 8,
   "id": "ca8e1c42-282c-4368-b6c1-bde269d90529",
   "metadata": {},
   "outputs": [
    {
     "name": "stdout",
     "output_type": "stream",
     "text": [
      "CPU times: user 8.72 ms, sys: 635 µs, total: 9.35 ms\n",
      "Wall time: 9.22 ms\n"
     ]
    }
   ],
   "source": [
    "%%time\n",
    "df_dask['geometry'] = dask_geopandas.points_from_xy(df_dask, 'lon_h_4326', 'lat_h_4326')"
   ]
  },
  {
   "cell_type": "markdown",
   "id": "04931902-6ef8-4079-b0ec-8274b65b3a88",
   "metadata": {},
   "source": [
    "After, we convert the dask geodataframe into a geopandas dataframe:"
   ]
  },
  {
   "cell_type": "code",
   "execution_count": 9,
   "id": "325c5781-30cc-4b36-a8a9-68469b42343d",
   "metadata": {},
   "outputs": [
    {
     "name": "stdout",
     "output_type": "stream",
     "text": [
      "CPU times: user 9.11 ms, sys: 353 µs, total: 9.46 ms\n",
      "Wall time: 9.23 ms\n"
     ]
    }
   ],
   "source": [
    "%%time\n",
    "gdf = dask_geopandas.from_dask_dataframe(df_dask)"
   ]
  },
  {
   "cell_type": "markdown",
   "id": "61994ea5-c412-46a3-b1aa-de02ef23b3ba",
   "metadata": {},
   "source": [
    "Calling compute puts all the above code into action. Dask executes each set of commands on each partition, as specified above. This returns GeoDataFrame ```gdf_hh```, with over 17 million rows, in around five seconds."
   ]
  },
  {
   "cell_type": "code",
   "execution_count": 10,
   "id": "b02a2ff3-1b72-452e-867f-87422fc9d887",
   "metadata": {},
   "outputs": [
    {
     "name": "stdout",
     "output_type": "stream",
     "text": [
      "CPU times: user 10.7 ms, sys: 1.63 ms, total: 12.3 ms\n",
      "Wall time: 11.9 ms\n"
     ]
    }
   ],
   "source": [
    "%%time\n",
    "gdf_hh = gdf.compute()"
   ]
  },
  {
   "cell_type": "code",
   "execution_count": 11,
   "id": "27713d00-d787-4eaa-adf0-c1f37ee045c7",
   "metadata": {},
   "outputs": [
    {
     "data": {
      "text/html": [
       "<div>\n",
       "<style scoped>\n",
       "    .dataframe tbody tr th:only-of-type {\n",
       "        vertical-align: middle;\n",
       "    }\n",
       "\n",
       "    .dataframe tbody tr th {\n",
       "        vertical-align: top;\n",
       "    }\n",
       "\n",
       "    .dataframe thead th {\n",
       "        text-align: right;\n",
       "    }\n",
       "</style>\n",
       "<table border=\"1\" class=\"dataframe\">\n",
       "  <thead>\n",
       "    <tr style=\"text-align: right;\">\n",
       "      <th></th>\n",
       "      <th>distance_category</th>\n",
       "      <th>geometry</th>\n",
       "    </tr>\n",
       "  </thead>\n",
       "  <tbody>\n",
       "    <tr>\n",
       "      <th>66795</th>\n",
       "      <td>3</td>\n",
       "      <td>POINT (-114.96617 36.19515)</td>\n",
       "    </tr>\n",
       "  </tbody>\n",
       "</table>\n",
       "</div>"
      ],
      "text/plain": [
       "       distance_category                     geometry\n",
       "66795                  3  POINT (-114.96617 36.19515)"
      ]
     },
     "execution_count": 11,
     "metadata": {},
     "output_type": "execute_result"
    }
   ],
   "source": [
    "gdf_hh = gdf_hh[['distance_category', 'geometry']]\n",
    "gdf_hh.head()"
   ]
  },
  {
   "cell_type": "markdown",
   "id": "9c5031c6-7ba2-44ce-b0c0-da1f0267b985",
   "metadata": {
    "tags": []
   },
   "source": [
    "### Computing number of households within 0.5 mi of a storage tank in each county\n",
    "Now that we have our two GeoDataFrames, we ```.sjoin()``` to find which households are within 0.5 miles from a tank in each county."
   ]
  },
  {
   "cell_type": "markdown",
   "id": "e01d0ef7-7da6-401a-b515-5ceba89dc3a7",
   "metadata": {
    "tags": []
   },
   "source": [
    "#### Filtering the household data for only households within 0.5 mi of a storage tank\n",
    "First, we created a new GeoDataFrame ```gdf_hh_half_mi``` that included only the households within 0.5 miles of a storage tank."
   ]
  },
  {
   "cell_type": "code",
   "execution_count": 12,
   "id": "304159f7-f9ec-4fd1-9ceb-a404743a8773",
   "metadata": {},
   "outputs": [
    {
     "data": {
      "text/html": [
       "<div>\n",
       "<style scoped>\n",
       "    .dataframe tbody tr th:only-of-type {\n",
       "        vertical-align: middle;\n",
       "    }\n",
       "\n",
       "    .dataframe tbody tr th {\n",
       "        vertical-align: top;\n",
       "    }\n",
       "\n",
       "    .dataframe thead th {\n",
       "        text-align: right;\n",
       "    }\n",
       "</style>\n",
       "<table border=\"1\" class=\"dataframe\">\n",
       "  <thead>\n",
       "    <tr style=\"text-align: right;\">\n",
       "      <th></th>\n",
       "      <th>distance_category</th>\n",
       "      <th>geometry</th>\n",
       "    </tr>\n",
       "  </thead>\n",
       "  <tbody>\n",
       "  </tbody>\n",
       "</table>\n",
       "</div>"
      ],
      "text/plain": [
       "Empty GeoDataFrame\n",
       "Columns: [distance_category, geometry]\n",
       "Index: []"
      ]
     },
     "execution_count": 12,
     "metadata": {},
     "output_type": "execute_result"
    }
   ],
   "source": [
    "gdf_hh_half_mi = gdf_hh[gdf_hh['distance_category'] == 1]\n",
    "gdf_hh_half_mi.head()"
   ]
  },
  {
   "cell_type": "markdown",
   "id": "fd0a0587-dbd2-41b9-a650-d88280863031",
   "metadata": {
    "tags": []
   },
   "source": [
    "#### Adding column in county dataframe with the number of households within 0.5mi of a tank\n",
    "Then, we used ```.sjoin()``` to find the number of households within 0.5 miles of a tank for each county.\n",
    "\n",
    "Calling ```.sjoin()``` and passing in two GeoDataFrames will return a new GeoDataFrame that only includes the observations with geometries that are the intersections of the two original GeoDataFrames. In our case, passing in a GeoDataFrame with the geometry for Harris County and a GeoDataFrame with all the households within 0.5 miles of a tank to the ```.sjoin()``` method returns a new GeoDataFrame with all the households within 0.5 miles of a tank in Harris County, as it returns all the Point geometries that intersects the Harris county Polygon geometry. Computing the length of that new dataframe through ```len()``` returns the number of households within 0.5 miles in Harris county, then.\n",
    "\n",
    "However, we need to do this for all counties in the US, so we use for loop. This loop iterates every row of ```df_counties``` finds the intersection between that county and the households within 0.5 miles of a tank (```gdf_hh_half_mi```), computes the length of that ```intersect_df```, and adds that number to a new column in ```df_counties```. We add the column to ```df_counties``` specifically, because then we can use this exact dataframe to plot a map of the US where each county is colored by the number of households within five miles of a storage tank, as it contains all the geometries for each county required for a GeoViews visualization."
   ]
  },
  {
   "cell_type": "code",
   "execution_count": 13,
   "id": "dae65fc3-43c4-4130-bc93-ec8648d38768",
   "metadata": {},
   "outputs": [
    {
     "name": "stdout",
     "output_type": "stream",
     "text": [
      "CPU times: user 37.1 s, sys: 55.1 ms, total: 37.1 s\n",
      "Wall time: 37.3 s\n"
     ]
    },
    {
     "data": {
      "text/html": [
       "<div>\n",
       "<style scoped>\n",
       "    .dataframe tbody tr th:only-of-type {\n",
       "        vertical-align: middle;\n",
       "    }\n",
       "\n",
       "    .dataframe tbody tr th {\n",
       "        vertical-align: top;\n",
       "    }\n",
       "\n",
       "    .dataframe thead th {\n",
       "        text-align: right;\n",
       "    }\n",
       "</style>\n",
       "<table border=\"1\" class=\"dataframe\">\n",
       "  <thead>\n",
       "    <tr style=\"text-align: right;\">\n",
       "      <th></th>\n",
       "      <th>county</th>\n",
       "      <th>geometry</th>\n",
       "      <th>hh_half_mi</th>\n",
       "    </tr>\n",
       "  </thead>\n",
       "  <tbody>\n",
       "    <tr>\n",
       "      <th>0</th>\n",
       "      <td>Riley</td>\n",
       "      <td>POLYGON ((-96.96095 39.28670, -96.96106 39.288...</td>\n",
       "      <td>0</td>\n",
       "    </tr>\n",
       "    <tr>\n",
       "      <th>1</th>\n",
       "      <td>Ringgold</td>\n",
       "      <td>POLYGON ((-94.47167 40.81255, -94.47166 40.819...</td>\n",
       "      <td>0</td>\n",
       "    </tr>\n",
       "    <tr>\n",
       "      <th>2</th>\n",
       "      <td>Carbon</td>\n",
       "      <td>POLYGON ((-109.79867 45.16734, -109.68779 45.1...</td>\n",
       "      <td>0</td>\n",
       "    </tr>\n",
       "    <tr>\n",
       "      <th>3</th>\n",
       "      <td>Bear Lake</td>\n",
       "      <td>POLYGON ((-111.63452 42.57034, -111.63010 42.5...</td>\n",
       "      <td>0</td>\n",
       "    </tr>\n",
       "    <tr>\n",
       "      <th>4</th>\n",
       "      <td>Buffalo</td>\n",
       "      <td>POLYGON ((-92.08384 44.41200, -92.08310 44.414...</td>\n",
       "      <td>0</td>\n",
       "    </tr>\n",
       "    <tr>\n",
       "      <th>...</th>\n",
       "      <td>...</td>\n",
       "      <td>...</td>\n",
       "      <td>...</td>\n",
       "    </tr>\n",
       "    <tr>\n",
       "      <th>3229</th>\n",
       "      <td>Asotin</td>\n",
       "      <td>POLYGON ((-117.47999 46.12199, -117.41948 46.1...</td>\n",
       "      <td>0</td>\n",
       "    </tr>\n",
       "    <tr>\n",
       "      <th>3230</th>\n",
       "      <td>Candler</td>\n",
       "      <td>POLYGON ((-82.25457 32.35150, -82.25276 32.353...</td>\n",
       "      <td>0</td>\n",
       "    </tr>\n",
       "    <tr>\n",
       "      <th>3231</th>\n",
       "      <td>Tom Green</td>\n",
       "      <td>POLYGON ((-101.26763 31.55646, -101.25039 31.5...</td>\n",
       "      <td>0</td>\n",
       "    </tr>\n",
       "    <tr>\n",
       "      <th>3232</th>\n",
       "      <td>Licking</td>\n",
       "      <td>POLYGON ((-82.78181 39.94698, -82.78126 39.955...</td>\n",
       "      <td>0</td>\n",
       "    </tr>\n",
       "    <tr>\n",
       "      <th>3233</th>\n",
       "      <td>Woodbury</td>\n",
       "      <td>POLYGON ((-96.49878 42.56104, -96.46085 42.561...</td>\n",
       "      <td>0</td>\n",
       "    </tr>\n",
       "  </tbody>\n",
       "</table>\n",
       "<p>3108 rows × 3 columns</p>\n",
       "</div>"
      ],
      "text/plain": [
       "         county                                           geometry  hh_half_mi\n",
       "0         Riley  POLYGON ((-96.96095 39.28670, -96.96106 39.288...           0\n",
       "1      Ringgold  POLYGON ((-94.47167 40.81255, -94.47166 40.819...           0\n",
       "2        Carbon  POLYGON ((-109.79867 45.16734, -109.68779 45.1...           0\n",
       "3     Bear Lake  POLYGON ((-111.63452 42.57034, -111.63010 42.5...           0\n",
       "4       Buffalo  POLYGON ((-92.08384 44.41200, -92.08310 44.414...           0\n",
       "...         ...                                                ...         ...\n",
       "3229     Asotin  POLYGON ((-117.47999 46.12199, -117.41948 46.1...           0\n",
       "3230    Candler  POLYGON ((-82.25457 32.35150, -82.25276 32.353...           0\n",
       "3231  Tom Green  POLYGON ((-101.26763 31.55646, -101.25039 31.5...           0\n",
       "3232    Licking  POLYGON ((-82.78181 39.94698, -82.78126 39.955...           0\n",
       "3233   Woodbury  POLYGON ((-96.49878 42.56104, -96.46085 42.561...           0\n",
       "\n",
       "[3108 rows x 3 columns]"
      ]
     },
     "execution_count": 13,
     "metadata": {},
     "output_type": "execute_result"
    }
   ],
   "source": [
    "%%time\n",
    "\n",
    "df_counties['hh_half_mi'] = 0\n",
    "df_counties_temp = df_counties\n",
    "\n",
    "for i in range(0, len(df_counties)):\n",
    "    county = df_counties_temp.head(n=1)\n",
    "    intersect_df = gpd.sjoin(county, gdf_hh_half_mi, how='inner', predicate='intersects')\n",
    "    df_counties_temp = df_counties_temp.iloc[1:, :]\n",
    "    num = len(intersect_df)\n",
    "    # print(num)\n",
    "    \n",
    "    # adding num to df_counties column\n",
    "    df_counties['hh_half_mi'].iloc[i] = num\n",
    "\n",
    "df_counties"
   ]
  },
  {
   "cell_type": "markdown",
   "id": "20ccec7d-5e39-438c-a5d8-8e7022ca8139",
   "metadata": {
    "tags": []
   },
   "source": [
    "### Computing number of households within 1 mi of a storage tank in each county\n",
    "Following the same steps as described above, except filtering for households within one mile of a storage tank."
   ]
  },
  {
   "cell_type": "markdown",
   "id": "99835b94-68e3-4567-b5d9-fc4095482126",
   "metadata": {
    "tags": []
   },
   "source": [
    "#### Filtering the household data for only households within 1 mi of a storage tank\n",
    "Note: using the test, synthetic data there are no households within 1 mi of a storage tank. More households would appear with the original InfoUSA and AST datasets."
   ]
  },
  {
   "cell_type": "code",
   "execution_count": 14,
   "id": "115eeeca-5b0f-403f-99d7-bc4a063cd0d6",
   "metadata": {},
   "outputs": [
    {
     "data": {
      "text/html": [
       "<div>\n",
       "<style scoped>\n",
       "    .dataframe tbody tr th:only-of-type {\n",
       "        vertical-align: middle;\n",
       "    }\n",
       "\n",
       "    .dataframe tbody tr th {\n",
       "        vertical-align: top;\n",
       "    }\n",
       "\n",
       "    .dataframe thead th {\n",
       "        text-align: right;\n",
       "    }\n",
       "</style>\n",
       "<table border=\"1\" class=\"dataframe\">\n",
       "  <thead>\n",
       "    <tr style=\"text-align: right;\">\n",
       "      <th></th>\n",
       "      <th>distance_category</th>\n",
       "      <th>geometry</th>\n",
       "    </tr>\n",
       "  </thead>\n",
       "  <tbody>\n",
       "  </tbody>\n",
       "</table>\n",
       "</div>"
      ],
      "text/plain": [
       "Empty GeoDataFrame\n",
       "Columns: [distance_category, geometry]\n",
       "Index: []"
      ]
     },
     "execution_count": 14,
     "metadata": {},
     "output_type": "execute_result"
    }
   ],
   "source": [
    "gdf_hh_one_mi = gdf_hh[gdf_hh['distance_category'] == 2]\n",
    "gdf_hh_one_mi"
   ]
  },
  {
   "cell_type": "markdown",
   "id": "ca18f136-fa26-4b03-9e7f-2aca5e5dbb4f",
   "metadata": {
    "tags": []
   },
   "source": [
    "#### Adding column in county dataframe with the number of households within 1 mi of a tank\n",
    "Takes around 30min"
   ]
  },
  {
   "cell_type": "code",
   "execution_count": 15,
   "id": "4994c33a-0b4e-49c2-ad16-8005a29cb234",
   "metadata": {},
   "outputs": [
    {
     "name": "stdout",
     "output_type": "stream",
     "text": [
      "CPU times: user 37.4 s, sys: 44.6 ms, total: 37.5 s\n",
      "Wall time: 37.7 s\n"
     ]
    },
    {
     "data": {
      "text/html": [
       "<div>\n",
       "<style scoped>\n",
       "    .dataframe tbody tr th:only-of-type {\n",
       "        vertical-align: middle;\n",
       "    }\n",
       "\n",
       "    .dataframe tbody tr th {\n",
       "        vertical-align: top;\n",
       "    }\n",
       "\n",
       "    .dataframe thead th {\n",
       "        text-align: right;\n",
       "    }\n",
       "</style>\n",
       "<table border=\"1\" class=\"dataframe\">\n",
       "  <thead>\n",
       "    <tr style=\"text-align: right;\">\n",
       "      <th></th>\n",
       "      <th>county</th>\n",
       "      <th>geometry</th>\n",
       "      <th>hh_half_mi</th>\n",
       "      <th>hh_one_mi</th>\n",
       "    </tr>\n",
       "  </thead>\n",
       "  <tbody>\n",
       "    <tr>\n",
       "      <th>0</th>\n",
       "      <td>Riley</td>\n",
       "      <td>POLYGON ((-96.96095 39.28670, -96.96106 39.288...</td>\n",
       "      <td>0</td>\n",
       "      <td>0</td>\n",
       "    </tr>\n",
       "    <tr>\n",
       "      <th>1</th>\n",
       "      <td>Ringgold</td>\n",
       "      <td>POLYGON ((-94.47167 40.81255, -94.47166 40.819...</td>\n",
       "      <td>0</td>\n",
       "      <td>0</td>\n",
       "    </tr>\n",
       "    <tr>\n",
       "      <th>2</th>\n",
       "      <td>Carbon</td>\n",
       "      <td>POLYGON ((-109.79867 45.16734, -109.68779 45.1...</td>\n",
       "      <td>0</td>\n",
       "      <td>0</td>\n",
       "    </tr>\n",
       "    <tr>\n",
       "      <th>3</th>\n",
       "      <td>Bear Lake</td>\n",
       "      <td>POLYGON ((-111.63452 42.57034, -111.63010 42.5...</td>\n",
       "      <td>0</td>\n",
       "      <td>0</td>\n",
       "    </tr>\n",
       "    <tr>\n",
       "      <th>4</th>\n",
       "      <td>Buffalo</td>\n",
       "      <td>POLYGON ((-92.08384 44.41200, -92.08310 44.414...</td>\n",
       "      <td>0</td>\n",
       "      <td>0</td>\n",
       "    </tr>\n",
       "    <tr>\n",
       "      <th>...</th>\n",
       "      <td>...</td>\n",
       "      <td>...</td>\n",
       "      <td>...</td>\n",
       "      <td>...</td>\n",
       "    </tr>\n",
       "    <tr>\n",
       "      <th>3229</th>\n",
       "      <td>Asotin</td>\n",
       "      <td>POLYGON ((-117.47999 46.12199, -117.41948 46.1...</td>\n",
       "      <td>0</td>\n",
       "      <td>0</td>\n",
       "    </tr>\n",
       "    <tr>\n",
       "      <th>3230</th>\n",
       "      <td>Candler</td>\n",
       "      <td>POLYGON ((-82.25457 32.35150, -82.25276 32.353...</td>\n",
       "      <td>0</td>\n",
       "      <td>0</td>\n",
       "    </tr>\n",
       "    <tr>\n",
       "      <th>3231</th>\n",
       "      <td>Tom Green</td>\n",
       "      <td>POLYGON ((-101.26763 31.55646, -101.25039 31.5...</td>\n",
       "      <td>0</td>\n",
       "      <td>0</td>\n",
       "    </tr>\n",
       "    <tr>\n",
       "      <th>3232</th>\n",
       "      <td>Licking</td>\n",
       "      <td>POLYGON ((-82.78181 39.94698, -82.78126 39.955...</td>\n",
       "      <td>0</td>\n",
       "      <td>0</td>\n",
       "    </tr>\n",
       "    <tr>\n",
       "      <th>3233</th>\n",
       "      <td>Woodbury</td>\n",
       "      <td>POLYGON ((-96.49878 42.56104, -96.46085 42.561...</td>\n",
       "      <td>0</td>\n",
       "      <td>0</td>\n",
       "    </tr>\n",
       "  </tbody>\n",
       "</table>\n",
       "<p>3108 rows × 4 columns</p>\n",
       "</div>"
      ],
      "text/plain": [
       "         county                                           geometry  \\\n",
       "0         Riley  POLYGON ((-96.96095 39.28670, -96.96106 39.288...   \n",
       "1      Ringgold  POLYGON ((-94.47167 40.81255, -94.47166 40.819...   \n",
       "2        Carbon  POLYGON ((-109.79867 45.16734, -109.68779 45.1...   \n",
       "3     Bear Lake  POLYGON ((-111.63452 42.57034, -111.63010 42.5...   \n",
       "4       Buffalo  POLYGON ((-92.08384 44.41200, -92.08310 44.414...   \n",
       "...         ...                                                ...   \n",
       "3229     Asotin  POLYGON ((-117.47999 46.12199, -117.41948 46.1...   \n",
       "3230    Candler  POLYGON ((-82.25457 32.35150, -82.25276 32.353...   \n",
       "3231  Tom Green  POLYGON ((-101.26763 31.55646, -101.25039 31.5...   \n",
       "3232    Licking  POLYGON ((-82.78181 39.94698, -82.78126 39.955...   \n",
       "3233   Woodbury  POLYGON ((-96.49878 42.56104, -96.46085 42.561...   \n",
       "\n",
       "      hh_half_mi  hh_one_mi  \n",
       "0              0          0  \n",
       "1              0          0  \n",
       "2              0          0  \n",
       "3              0          0  \n",
       "4              0          0  \n",
       "...          ...        ...  \n",
       "3229           0          0  \n",
       "3230           0          0  \n",
       "3231           0          0  \n",
       "3232           0          0  \n",
       "3233           0          0  \n",
       "\n",
       "[3108 rows x 4 columns]"
      ]
     },
     "execution_count": 15,
     "metadata": {},
     "output_type": "execute_result"
    }
   ],
   "source": [
    "%%time\n",
    "\n",
    "df_counties['hh_one_mi'] = 0\n",
    "df_counties_temp = df_counties\n",
    "\n",
    "for i in range(0, len(df_counties)):\n",
    "    county = df_counties_temp.head(n=1)\n",
    "    intersect_df = gpd.sjoin(county, gdf_hh_one_mi, how='inner', predicate='intersects')\n",
    "    df_counties_temp = df_counties_temp.iloc[1:, :]\n",
    "    num = len(intersect_df)\n",
    "    # print(num)\n",
    "    \n",
    "    # adding num to df_counties column\n",
    "    df_counties['hh_one_mi'].iloc[i] = num\n",
    "\n",
    "df_counties"
   ]
  },
  {
   "cell_type": "markdown",
   "id": "8698fbdb-a0a4-4e1d-b8b0-0c1d627f5f7f",
   "metadata": {
    "tags": []
   },
   "source": [
    "### Computing number of households within 5mi of a storage tank in each county\n",
    "Following the same steps as described above, except filtering for households within five miles of a storage tank. Because the households GeoDataFrame has over 14 million rows, this process takes quite a while."
   ]
  },
  {
   "cell_type": "markdown",
   "id": "010bf3f7-8317-49fe-94d4-57586eaf74b0",
   "metadata": {
    "tags": []
   },
   "source": [
    "#### Filtering the household data for only households within 5 mi of a storage tank"
   ]
  },
  {
   "cell_type": "code",
   "execution_count": 16,
   "id": "3c3c4be7-ad6f-4dfe-a5d3-e8d65efb8d18",
   "metadata": {},
   "outputs": [
    {
     "data": {
      "text/html": [
       "<div>\n",
       "<style scoped>\n",
       "    .dataframe tbody tr th:only-of-type {\n",
       "        vertical-align: middle;\n",
       "    }\n",
       "\n",
       "    .dataframe tbody tr th {\n",
       "        vertical-align: top;\n",
       "    }\n",
       "\n",
       "    .dataframe thead th {\n",
       "        text-align: right;\n",
       "    }\n",
       "</style>\n",
       "<table border=\"1\" class=\"dataframe\">\n",
       "  <thead>\n",
       "    <tr style=\"text-align: right;\">\n",
       "      <th></th>\n",
       "      <th>distance_category</th>\n",
       "      <th>geometry</th>\n",
       "    </tr>\n",
       "  </thead>\n",
       "  <tbody>\n",
       "    <tr>\n",
       "      <th>66795</th>\n",
       "      <td>3</td>\n",
       "      <td>POINT (-114.96617 36.19515)</td>\n",
       "    </tr>\n",
       "  </tbody>\n",
       "</table>\n",
       "</div>"
      ],
      "text/plain": [
       "       distance_category                     geometry\n",
       "66795                  3  POINT (-114.96617 36.19515)"
      ]
     },
     "execution_count": 16,
     "metadata": {},
     "output_type": "execute_result"
    }
   ],
   "source": [
    "gdf_hh_five_mi = gdf_hh[gdf_hh['distance_category'] == 3]\n",
    "gdf_hh_five_mi"
   ]
  },
  {
   "cell_type": "markdown",
   "id": "8034ac48-ed3d-4fab-b781-4c23a7055164",
   "metadata": {
    "tags": []
   },
   "source": [
    "#### Adding column in county dataframe with the number of households within 5 mi of a tank\n",
    "Takes around 4 hours."
   ]
  },
  {
   "cell_type": "code",
   "execution_count": 17,
   "id": "e5750fec-7f12-4fd9-8195-b6a6ad8edc27",
   "metadata": {},
   "outputs": [
    {
     "name": "stdout",
     "output_type": "stream",
     "text": [
      "CPU times: user 35.1 s, sys: 122 ms, total: 35.2 s\n",
      "Wall time: 35.3 s\n"
     ]
    },
    {
     "data": {
      "text/html": [
       "<div>\n",
       "<style scoped>\n",
       "    .dataframe tbody tr th:only-of-type {\n",
       "        vertical-align: middle;\n",
       "    }\n",
       "\n",
       "    .dataframe tbody tr th {\n",
       "        vertical-align: top;\n",
       "    }\n",
       "\n",
       "    .dataframe thead th {\n",
       "        text-align: right;\n",
       "    }\n",
       "</style>\n",
       "<table border=\"1\" class=\"dataframe\">\n",
       "  <thead>\n",
       "    <tr style=\"text-align: right;\">\n",
       "      <th></th>\n",
       "      <th>county</th>\n",
       "      <th>geometry</th>\n",
       "      <th>hh_half_mi</th>\n",
       "      <th>hh_one_mi</th>\n",
       "      <th>hh_five_mi</th>\n",
       "    </tr>\n",
       "  </thead>\n",
       "  <tbody>\n",
       "    <tr>\n",
       "      <th>0</th>\n",
       "      <td>Riley</td>\n",
       "      <td>POLYGON ((-96.96095 39.28670, -96.96106 39.288...</td>\n",
       "      <td>0</td>\n",
       "      <td>0</td>\n",
       "      <td>0</td>\n",
       "    </tr>\n",
       "    <tr>\n",
       "      <th>1</th>\n",
       "      <td>Ringgold</td>\n",
       "      <td>POLYGON ((-94.47167 40.81255, -94.47166 40.819...</td>\n",
       "      <td>0</td>\n",
       "      <td>0</td>\n",
       "      <td>0</td>\n",
       "    </tr>\n",
       "    <tr>\n",
       "      <th>2</th>\n",
       "      <td>Carbon</td>\n",
       "      <td>POLYGON ((-109.79867 45.16734, -109.68779 45.1...</td>\n",
       "      <td>0</td>\n",
       "      <td>0</td>\n",
       "      <td>0</td>\n",
       "    </tr>\n",
       "    <tr>\n",
       "      <th>3</th>\n",
       "      <td>Bear Lake</td>\n",
       "      <td>POLYGON ((-111.63452 42.57034, -111.63010 42.5...</td>\n",
       "      <td>0</td>\n",
       "      <td>0</td>\n",
       "      <td>0</td>\n",
       "    </tr>\n",
       "    <tr>\n",
       "      <th>4</th>\n",
       "      <td>Buffalo</td>\n",
       "      <td>POLYGON ((-92.08384 44.41200, -92.08310 44.414...</td>\n",
       "      <td>0</td>\n",
       "      <td>0</td>\n",
       "      <td>0</td>\n",
       "    </tr>\n",
       "    <tr>\n",
       "      <th>...</th>\n",
       "      <td>...</td>\n",
       "      <td>...</td>\n",
       "      <td>...</td>\n",
       "      <td>...</td>\n",
       "      <td>...</td>\n",
       "    </tr>\n",
       "    <tr>\n",
       "      <th>3229</th>\n",
       "      <td>Asotin</td>\n",
       "      <td>POLYGON ((-117.47999 46.12199, -117.41948 46.1...</td>\n",
       "      <td>0</td>\n",
       "      <td>0</td>\n",
       "      <td>0</td>\n",
       "    </tr>\n",
       "    <tr>\n",
       "      <th>3230</th>\n",
       "      <td>Candler</td>\n",
       "      <td>POLYGON ((-82.25457 32.35150, -82.25276 32.353...</td>\n",
       "      <td>0</td>\n",
       "      <td>0</td>\n",
       "      <td>0</td>\n",
       "    </tr>\n",
       "    <tr>\n",
       "      <th>3231</th>\n",
       "      <td>Tom Green</td>\n",
       "      <td>POLYGON ((-101.26763 31.55646, -101.25039 31.5...</td>\n",
       "      <td>0</td>\n",
       "      <td>0</td>\n",
       "      <td>0</td>\n",
       "    </tr>\n",
       "    <tr>\n",
       "      <th>3232</th>\n",
       "      <td>Licking</td>\n",
       "      <td>POLYGON ((-82.78181 39.94698, -82.78126 39.955...</td>\n",
       "      <td>0</td>\n",
       "      <td>0</td>\n",
       "      <td>0</td>\n",
       "    </tr>\n",
       "    <tr>\n",
       "      <th>3233</th>\n",
       "      <td>Woodbury</td>\n",
       "      <td>POLYGON ((-96.49878 42.56104, -96.46085 42.561...</td>\n",
       "      <td>0</td>\n",
       "      <td>0</td>\n",
       "      <td>0</td>\n",
       "    </tr>\n",
       "  </tbody>\n",
       "</table>\n",
       "<p>3108 rows × 5 columns</p>\n",
       "</div>"
      ],
      "text/plain": [
       "         county                                           geometry  \\\n",
       "0         Riley  POLYGON ((-96.96095 39.28670, -96.96106 39.288...   \n",
       "1      Ringgold  POLYGON ((-94.47167 40.81255, -94.47166 40.819...   \n",
       "2        Carbon  POLYGON ((-109.79867 45.16734, -109.68779 45.1...   \n",
       "3     Bear Lake  POLYGON ((-111.63452 42.57034, -111.63010 42.5...   \n",
       "4       Buffalo  POLYGON ((-92.08384 44.41200, -92.08310 44.414...   \n",
       "...         ...                                                ...   \n",
       "3229     Asotin  POLYGON ((-117.47999 46.12199, -117.41948 46.1...   \n",
       "3230    Candler  POLYGON ((-82.25457 32.35150, -82.25276 32.353...   \n",
       "3231  Tom Green  POLYGON ((-101.26763 31.55646, -101.25039 31.5...   \n",
       "3232    Licking  POLYGON ((-82.78181 39.94698, -82.78126 39.955...   \n",
       "3233   Woodbury  POLYGON ((-96.49878 42.56104, -96.46085 42.561...   \n",
       "\n",
       "      hh_half_mi  hh_one_mi  hh_five_mi  \n",
       "0              0          0           0  \n",
       "1              0          0           0  \n",
       "2              0          0           0  \n",
       "3              0          0           0  \n",
       "4              0          0           0  \n",
       "...          ...        ...         ...  \n",
       "3229           0          0           0  \n",
       "3230           0          0           0  \n",
       "3231           0          0           0  \n",
       "3232           0          0           0  \n",
       "3233           0          0           0  \n",
       "\n",
       "[3108 rows x 5 columns]"
      ]
     },
     "execution_count": 17,
     "metadata": {},
     "output_type": "execute_result"
    }
   ],
   "source": [
    "%%time \n",
    "\n",
    "df_counties['hh_five_mi'] = 0\n",
    "df_counties_temp = df_counties\n",
    "\n",
    "for i in range(0, len(df_counties)):\n",
    "    county = df_counties_temp.head(n=1)\n",
    "    intersect_df = gpd.sjoin(county, gdf_hh_five_mi, how='inner', predicate='intersects')\n",
    "    df_counties_temp = df_counties_temp.iloc[1:, :]\n",
    "    num = len(intersect_df)\n",
    "    \n",
    "    # adding num to df_counties column \n",
    "    df_counties['hh_five_mi'].iloc[i] = num\n",
    "\n",
    "df_counties"
   ]
  },
  {
   "cell_type": "code",
   "execution_count": 18,
   "id": "35e66f89-849c-43a0-8755-4c3cf87c90c1",
   "metadata": {},
   "outputs": [
    {
     "data": {
      "text/html": [
       "<div>\n",
       "<style scoped>\n",
       "    .dataframe tbody tr th:only-of-type {\n",
       "        vertical-align: middle;\n",
       "    }\n",
       "\n",
       "    .dataframe tbody tr th {\n",
       "        vertical-align: top;\n",
       "    }\n",
       "\n",
       "    .dataframe thead th {\n",
       "        text-align: right;\n",
       "    }\n",
       "</style>\n",
       "<table border=\"1\" class=\"dataframe\">\n",
       "  <thead>\n",
       "    <tr style=\"text-align: right;\">\n",
       "      <th></th>\n",
       "      <th>county</th>\n",
       "      <th>geometry</th>\n",
       "      <th>hh_half_mi</th>\n",
       "      <th>hh_one_mi</th>\n",
       "      <th>hh_five_mi</th>\n",
       "      <th>hh_total</th>\n",
       "    </tr>\n",
       "  </thead>\n",
       "  <tbody>\n",
       "    <tr>\n",
       "      <th>0</th>\n",
       "      <td>Riley</td>\n",
       "      <td>POLYGON ((-96.96095 39.28670, -96.96106 39.288...</td>\n",
       "      <td>0</td>\n",
       "      <td>0</td>\n",
       "      <td>0</td>\n",
       "      <td>0</td>\n",
       "    </tr>\n",
       "    <tr>\n",
       "      <th>1</th>\n",
       "      <td>Ringgold</td>\n",
       "      <td>POLYGON ((-94.47167 40.81255, -94.47166 40.819...</td>\n",
       "      <td>0</td>\n",
       "      <td>0</td>\n",
       "      <td>0</td>\n",
       "      <td>0</td>\n",
       "    </tr>\n",
       "    <tr>\n",
       "      <th>2</th>\n",
       "      <td>Carbon</td>\n",
       "      <td>POLYGON ((-109.79867 45.16734, -109.68779 45.1...</td>\n",
       "      <td>0</td>\n",
       "      <td>0</td>\n",
       "      <td>0</td>\n",
       "      <td>0</td>\n",
       "    </tr>\n",
       "    <tr>\n",
       "      <th>3</th>\n",
       "      <td>Bear Lake</td>\n",
       "      <td>POLYGON ((-111.63452 42.57034, -111.63010 42.5...</td>\n",
       "      <td>0</td>\n",
       "      <td>0</td>\n",
       "      <td>0</td>\n",
       "      <td>0</td>\n",
       "    </tr>\n",
       "    <tr>\n",
       "      <th>4</th>\n",
       "      <td>Buffalo</td>\n",
       "      <td>POLYGON ((-92.08384 44.41200, -92.08310 44.414...</td>\n",
       "      <td>0</td>\n",
       "      <td>0</td>\n",
       "      <td>0</td>\n",
       "      <td>0</td>\n",
       "    </tr>\n",
       "    <tr>\n",
       "      <th>...</th>\n",
       "      <td>...</td>\n",
       "      <td>...</td>\n",
       "      <td>...</td>\n",
       "      <td>...</td>\n",
       "      <td>...</td>\n",
       "      <td>...</td>\n",
       "    </tr>\n",
       "    <tr>\n",
       "      <th>3229</th>\n",
       "      <td>Asotin</td>\n",
       "      <td>POLYGON ((-117.47999 46.12199, -117.41948 46.1...</td>\n",
       "      <td>0</td>\n",
       "      <td>0</td>\n",
       "      <td>0</td>\n",
       "      <td>0</td>\n",
       "    </tr>\n",
       "    <tr>\n",
       "      <th>3230</th>\n",
       "      <td>Candler</td>\n",
       "      <td>POLYGON ((-82.25457 32.35150, -82.25276 32.353...</td>\n",
       "      <td>0</td>\n",
       "      <td>0</td>\n",
       "      <td>0</td>\n",
       "      <td>0</td>\n",
       "    </tr>\n",
       "    <tr>\n",
       "      <th>3231</th>\n",
       "      <td>Tom Green</td>\n",
       "      <td>POLYGON ((-101.26763 31.55646, -101.25039 31.5...</td>\n",
       "      <td>0</td>\n",
       "      <td>0</td>\n",
       "      <td>0</td>\n",
       "      <td>0</td>\n",
       "    </tr>\n",
       "    <tr>\n",
       "      <th>3232</th>\n",
       "      <td>Licking</td>\n",
       "      <td>POLYGON ((-82.78181 39.94698, -82.78126 39.955...</td>\n",
       "      <td>0</td>\n",
       "      <td>0</td>\n",
       "      <td>0</td>\n",
       "      <td>0</td>\n",
       "    </tr>\n",
       "    <tr>\n",
       "      <th>3233</th>\n",
       "      <td>Woodbury</td>\n",
       "      <td>POLYGON ((-96.49878 42.56104, -96.46085 42.561...</td>\n",
       "      <td>0</td>\n",
       "      <td>0</td>\n",
       "      <td>0</td>\n",
       "      <td>0</td>\n",
       "    </tr>\n",
       "  </tbody>\n",
       "</table>\n",
       "<p>3108 rows × 6 columns</p>\n",
       "</div>"
      ],
      "text/plain": [
       "         county                                           geometry  \\\n",
       "0         Riley  POLYGON ((-96.96095 39.28670, -96.96106 39.288...   \n",
       "1      Ringgold  POLYGON ((-94.47167 40.81255, -94.47166 40.819...   \n",
       "2        Carbon  POLYGON ((-109.79867 45.16734, -109.68779 45.1...   \n",
       "3     Bear Lake  POLYGON ((-111.63452 42.57034, -111.63010 42.5...   \n",
       "4       Buffalo  POLYGON ((-92.08384 44.41200, -92.08310 44.414...   \n",
       "...         ...                                                ...   \n",
       "3229     Asotin  POLYGON ((-117.47999 46.12199, -117.41948 46.1...   \n",
       "3230    Candler  POLYGON ((-82.25457 32.35150, -82.25276 32.353...   \n",
       "3231  Tom Green  POLYGON ((-101.26763 31.55646, -101.25039 31.5...   \n",
       "3232    Licking  POLYGON ((-82.78181 39.94698, -82.78126 39.955...   \n",
       "3233   Woodbury  POLYGON ((-96.49878 42.56104, -96.46085 42.561...   \n",
       "\n",
       "      hh_half_mi  hh_one_mi  hh_five_mi  hh_total  \n",
       "0              0          0           0         0  \n",
       "1              0          0           0         0  \n",
       "2              0          0           0         0  \n",
       "3              0          0           0         0  \n",
       "4              0          0           0         0  \n",
       "...          ...        ...         ...       ...  \n",
       "3229           0          0           0         0  \n",
       "3230           0          0           0         0  \n",
       "3231           0          0           0         0  \n",
       "3232           0          0           0         0  \n",
       "3233           0          0           0         0  \n",
       "\n",
       "[3108 rows x 6 columns]"
      ]
     },
     "execution_count": 18,
     "metadata": {},
     "output_type": "execute_result"
    }
   ],
   "source": [
    "df_counties['hh_total'] = df_counties['hh_half_mi'] + df_counties['hh_one_mi'] + df_counties['hh_five_mi']\n",
    "df_counties"
   ]
  },
  {
   "cell_type": "markdown",
   "id": "7c741f12-c7cf-48d1-9d73-14c223f91891",
   "metadata": {
    "tags": []
   },
   "source": [
    "### Exporting it as a shapefile"
   ]
  },
  {
   "cell_type": "code",
   "execution_count": 19,
   "id": "76026669-7d51-4bc0-9add-144f86b2caa6",
   "metadata": {},
   "outputs": [],
   "source": [
    "df_counties.to_file(DATA_DIR + '/hh_num_counties.shp')"
   ]
  },
  {
   "cell_type": "code",
   "execution_count": 20,
   "id": "3e041a28-6190-4750-b933-266078feeb06",
   "metadata": {},
   "outputs": [
    {
     "data": {
      "text/html": [
       "<div>\n",
       "<style scoped>\n",
       "    .dataframe tbody tr th:only-of-type {\n",
       "        vertical-align: middle;\n",
       "    }\n",
       "\n",
       "    .dataframe tbody tr th {\n",
       "        vertical-align: top;\n",
       "    }\n",
       "\n",
       "    .dataframe thead th {\n",
       "        text-align: right;\n",
       "    }\n",
       "</style>\n",
       "<table border=\"1\" class=\"dataframe\">\n",
       "  <thead>\n",
       "    <tr style=\"text-align: right;\">\n",
       "      <th></th>\n",
       "      <th>county</th>\n",
       "      <th>hh_half_mi</th>\n",
       "      <th>hh_one_mi</th>\n",
       "      <th>hh_five_mi</th>\n",
       "      <th>hh_total</th>\n",
       "      <th>geometry</th>\n",
       "    </tr>\n",
       "  </thead>\n",
       "  <tbody>\n",
       "    <tr>\n",
       "      <th>0</th>\n",
       "      <td>Riley</td>\n",
       "      <td>0</td>\n",
       "      <td>0</td>\n",
       "      <td>0</td>\n",
       "      <td>0</td>\n",
       "      <td>POLYGON ((-96.96095 39.28670, -96.96106 39.288...</td>\n",
       "    </tr>\n",
       "    <tr>\n",
       "      <th>1</th>\n",
       "      <td>Ringgold</td>\n",
       "      <td>0</td>\n",
       "      <td>0</td>\n",
       "      <td>0</td>\n",
       "      <td>0</td>\n",
       "      <td>POLYGON ((-94.47167 40.81255, -94.47166 40.819...</td>\n",
       "    </tr>\n",
       "    <tr>\n",
       "      <th>2</th>\n",
       "      <td>Carbon</td>\n",
       "      <td>0</td>\n",
       "      <td>0</td>\n",
       "      <td>0</td>\n",
       "      <td>0</td>\n",
       "      <td>POLYGON ((-109.79867 45.16734, -109.68779 45.1...</td>\n",
       "    </tr>\n",
       "    <tr>\n",
       "      <th>3</th>\n",
       "      <td>Bear Lake</td>\n",
       "      <td>0</td>\n",
       "      <td>0</td>\n",
       "      <td>0</td>\n",
       "      <td>0</td>\n",
       "      <td>POLYGON ((-111.63452 42.57034, -111.63010 42.5...</td>\n",
       "    </tr>\n",
       "    <tr>\n",
       "      <th>4</th>\n",
       "      <td>Buffalo</td>\n",
       "      <td>0</td>\n",
       "      <td>0</td>\n",
       "      <td>0</td>\n",
       "      <td>0</td>\n",
       "      <td>POLYGON ((-92.08384 44.41200, -92.08310 44.414...</td>\n",
       "    </tr>\n",
       "    <tr>\n",
       "      <th>...</th>\n",
       "      <td>...</td>\n",
       "      <td>...</td>\n",
       "      <td>...</td>\n",
       "      <td>...</td>\n",
       "      <td>...</td>\n",
       "      <td>...</td>\n",
       "    </tr>\n",
       "    <tr>\n",
       "      <th>3103</th>\n",
       "      <td>Asotin</td>\n",
       "      <td>0</td>\n",
       "      <td>0</td>\n",
       "      <td>0</td>\n",
       "      <td>0</td>\n",
       "      <td>POLYGON ((-117.47999 46.12199, -117.41948 46.1...</td>\n",
       "    </tr>\n",
       "    <tr>\n",
       "      <th>3104</th>\n",
       "      <td>Candler</td>\n",
       "      <td>0</td>\n",
       "      <td>0</td>\n",
       "      <td>0</td>\n",
       "      <td>0</td>\n",
       "      <td>POLYGON ((-82.25457 32.35150, -82.25276 32.353...</td>\n",
       "    </tr>\n",
       "    <tr>\n",
       "      <th>3105</th>\n",
       "      <td>Tom Green</td>\n",
       "      <td>0</td>\n",
       "      <td>0</td>\n",
       "      <td>0</td>\n",
       "      <td>0</td>\n",
       "      <td>POLYGON ((-101.26763 31.55646, -101.25039 31.5...</td>\n",
       "    </tr>\n",
       "    <tr>\n",
       "      <th>3106</th>\n",
       "      <td>Licking</td>\n",
       "      <td>0</td>\n",
       "      <td>0</td>\n",
       "      <td>0</td>\n",
       "      <td>0</td>\n",
       "      <td>POLYGON ((-82.78181 39.94698, -82.78126 39.955...</td>\n",
       "    </tr>\n",
       "    <tr>\n",
       "      <th>3107</th>\n",
       "      <td>Woodbury</td>\n",
       "      <td>0</td>\n",
       "      <td>0</td>\n",
       "      <td>0</td>\n",
       "      <td>0</td>\n",
       "      <td>POLYGON ((-96.49878 42.56104, -96.46085 42.561...</td>\n",
       "    </tr>\n",
       "  </tbody>\n",
       "</table>\n",
       "<p>3108 rows × 6 columns</p>\n",
       "</div>"
      ],
      "text/plain": [
       "         county  hh_half_mi  hh_one_mi  hh_five_mi  hh_total  \\\n",
       "0         Riley           0          0           0         0   \n",
       "1      Ringgold           0          0           0         0   \n",
       "2        Carbon           0          0           0         0   \n",
       "3     Bear Lake           0          0           0         0   \n",
       "4       Buffalo           0          0           0         0   \n",
       "...         ...         ...        ...         ...       ...   \n",
       "3103     Asotin           0          0           0         0   \n",
       "3104    Candler           0          0           0         0   \n",
       "3105  Tom Green           0          0           0         0   \n",
       "3106    Licking           0          0           0         0   \n",
       "3107   Woodbury           0          0           0         0   \n",
       "\n",
       "                                               geometry  \n",
       "0     POLYGON ((-96.96095 39.28670, -96.96106 39.288...  \n",
       "1     POLYGON ((-94.47167 40.81255, -94.47166 40.819...  \n",
       "2     POLYGON ((-109.79867 45.16734, -109.68779 45.1...  \n",
       "3     POLYGON ((-111.63452 42.57034, -111.63010 42.5...  \n",
       "4     POLYGON ((-92.08384 44.41200, -92.08310 44.414...  \n",
       "...                                                 ...  \n",
       "3103  POLYGON ((-117.47999 46.12199, -117.41948 46.1...  \n",
       "3104  POLYGON ((-82.25457 32.35150, -82.25276 32.353...  \n",
       "3105  POLYGON ((-101.26763 31.55646, -101.25039 31.5...  \n",
       "3106  POLYGON ((-82.78181 39.94698, -82.78126 39.955...  \n",
       "3107  POLYGON ((-96.49878 42.56104, -96.46085 42.561...  \n",
       "\n",
       "[3108 rows x 6 columns]"
      ]
     },
     "execution_count": 20,
     "metadata": {},
     "output_type": "execute_result"
    }
   ],
   "source": [
    "df = gpd.read_file(DATA_DIR + '/hh_num_counties.shp')\n",
    "df"
   ]
  }
 ],
 "metadata": {
  "kernelspec": {
   "display_name": "Python 3 (ipykernel)",
   "language": "python",
   "name": "python3"
  },
  "language_info": {
   "codemirror_mode": {
    "name": "ipython",
    "version": 3
   },
   "file_extension": ".py",
   "mimetype": "text/x-python",
   "name": "python",
   "nbconvert_exporter": "python",
   "pygments_lexer": "ipython3",
   "version": "3.9.13"
  }
 },
 "nbformat": 4,
 "nbformat_minor": 5
}
