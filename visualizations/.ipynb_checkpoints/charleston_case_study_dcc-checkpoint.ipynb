{
 "cells": [
  {
   "cell_type": "markdown",
   "id": "39e9a3f3-686a-4a90-8f02-dba30b6d2782",
   "metadata": {},
   "source": [
    "# Using Cuxfilter to Plot Coordinates on a Map of the United States\n",
    "### A map of Charleston County households and tanks with a distance range slider\n",
    "This visualization uses a the Cuxfilter library and GPUs to plot households and tanks on a dashboard, with range slider feature to show households that are a certain range of distance away from the nearest tank. There are also multiselect charts to view households with elderly/no elderly people, children/no children, and households within a specific distance category."
   ]
  },
  {
   "cell_type": "markdown",
   "id": "2571a645-26b7-4aac-bbff-29e85e60fa8d",
   "metadata": {
    "tags": []
   },
   "source": [
    "### Import statements"
   ]
  },
  {
   "cell_type": "code",
   "execution_count": null,
   "id": "7bd934ec-cb29-4936-bfc4-413d019860f1",
   "metadata": {},
   "outputs": [
    {
     "name": "stderr",
     "output_type": "stream",
     "text": [
      "/opt/conda/envs/rapids/lib/python3.9/site-packages/geopandas/_compat.py:106: UserWarning: The Shapely GEOS version (3.9.1-CAPI-1.14.2) is incompatible with the GEOS version PyGEOS was compiled with (3.10.1-CAPI-1.16.0). Conversions between both will be slow.\n",
      "  warnings.warn(\n"
     ]
    }
   ],
   "source": [
    "import geopandas as gpd\n",
    "\n",
    "import cuxfilter\n",
    "from cuxfilter.layouts import feature_and_base\n",
    "import cudf\n",
    "import numpy as np\n",
    "\n",
    "import holoviews as hv\n",
    "import pandas as pd"
   ]
  },
  {
   "cell_type": "markdown",
   "id": "9390290b-90f9-4710-9d0a-265fa73be647",
   "metadata": {
    "tags": []
   },
   "source": [
    "### Reading household distance data\n",
    "\n",
    "This is a preprocessed file with distance between households in Harris county and tanks already calculated in miles. This dataframe also includes information as to whether the households have children, the age code of the head of household, the latitude and longitudes of the tanks and households, tank type, tank diameter, and distance, and if there are elderly in each household. \n",
    "\n",
    "The ```lat_3857``` and ```lon_3857``` coordinates will be the points we plot on our cuxfilter dashboard, and the rest of the variables are used for the range slider and multiselect tools the user can interact with."
   ]
  },
  {
   "cell_type": "code",
   "execution_count": null,
   "id": "be3621d4-55df-4cde-94bb-a965a7f1262b",
   "metadata": {},
   "outputs": [],
   "source": [
    "df_charleston = pd.read_parquet('/hpc/group/codeplus22-vis/infousa_copy/distances_charleston_final.parquet')\n",
    "df_charleston = df_charleston[df_charleston['distance_category'] != 4]\n",
    "df_charleston"
   ]
  },
  {
   "cell_type": "markdown",
   "id": "5ee1b530-a329-4a75-aa2a-d1570f84c06b",
   "metadata": {
    "tags": []
   },
   "source": [
    "### Defining charts\n",
    "The Datashader plotting library that Cuxfilter uses to create our visualization through the use of Graphical Processing Units (GPUs) is optimized for working with large dataframes. Here, we're plotting over 1 million of them. However, an aspect of Datashader is that it only takes numerical inputs when creating the range slider and multiselect charts. This means that instead of being able to categorize each household by whether or not it has children by labelling it with ```strings``` as ```'Children'``` or ```'No Children'```, we must label it numerically. Hence, our column ```has_child``` has numerical indicators. ```0``` indicates that the point is a tank, ```1``` indicates that the point is a household and has children, and ```2``` indicates that the point is a household and does not have children. The same structure is true for our ```is_elderly``` column. For the ```distance_category``` column, ```0``` indicates that the point is a tank, ```1``` indicates that the point is a household 0.5 miles away from the nearest tank, ```2``` is a household 1 mile away, and ```3``` is a household 5 miles away. \n",
    "\n",
    "The label maps below associate each numerical value in our dataframe to a ```string``` label which is displayed on the range slider and multiselect. The ```colors``` list provides the hex codes for the coloring of each point in the map when it is displayed. "
   ]
  },
  {
   "cell_type": "code",
   "execution_count": null,
   "id": "b31f1d2f-7aaa-4081-9937-30cb204bf957",
   "metadata": {},
   "outputs": [],
   "source": [
    "label_map_distance = {0: 'Tank', 1: '0.5 miles away', \n",
    "             2: '1 mile away', 3: '5 miles away'}\n",
    "\n",
    "label_map_elderly = {0: 'Tank', 1: 'Elderly', \n",
    "             2: 'Not Elderly'}\n",
    "\n",
    "label_map_children = {0: 'Tank', 1: 'Children', \n",
    "             2: 'No Children'}\n",
    "\n",
    "colors = ['#05c1ff', '#ff0000', '#ff00a4', '#a11aeb']"
   ]
  },
  {
   "cell_type": "markdown",
   "id": "77e8e48a-4e4a-4df9-bceb-07813b24eba8",
   "metadata": {
    "tags": []
   },
   "source": [
    "### Transforming to cuxfilter dataframe\n",
    "\n",
    "This transforms the pandas dataframe into a cuDF dataframe, then from a cuDF dataframe into a Cuxfilter dataframe. This makes it possible to plot these dataframes using the Cuxfilter library."
   ]
  },
  {
   "cell_type": "code",
   "execution_count": null,
   "id": "8898d182-2ed0-408c-a1d1-f108aeb10998",
   "metadata": {},
   "outputs": [],
   "source": [
    "cdf = cudf.DataFrame.from_pandas(df_charleston) "
   ]
  },
  {
   "cell_type": "code",
   "execution_count": null,
   "id": "16396771-919e-4634-8dd7-da7439b608eb",
   "metadata": {},
   "outputs": [],
   "source": [
    "cux_df = cuxfilter.DataFrame.from_dataframe(cdf) "
   ]
  },
  {
   "cell_type": "markdown",
   "id": "a4b247f1-58be-4a81-84af-bfa5a63512ad",
   "metadata": {
    "tags": []
   },
   "source": [
    "### Making Cuxfilter Charts\n",
    "\n",
    "This code defines the charts for our interactive dashboard. The ```points``` chart is the main map with households and tanks plotted. We are using latitude and longitude coordinates in the EPSG 3857 coordinate system, as it is the one used by the Cuxfilter library. The points for tanks and households are colored differently by setting the ```aggregate_col``` parameter as the ```distance_category``` column in our dataframe. The ```aggregate_fn``` parameter, set to either ```max```, ```min``` or ```mean``` specifies which aggregation of the data to perform when coloring the points. \n",
    "\n",
    "This column has four categories, as described above, and the ```colors``` list has four different colors, each which will be assigned to one of the distance categories. This colors each point on the map by its corresponding distance category.\n",
    "\n",
    "The next four charts define the interactive range sliders and multiselects the user can interact with. In each of these lines, the ```.multi_select``` specifies that the chart is a multiselect chart, while the ```.range_slider``` specifies that the chart is a range slider. In each of these chart definitions, we specify the column name from our dataframe that the chart should pull from, and the label map Cuxfilter should use to create the chart. For example, the ```distance_category``` chart is a multiselect chart that pulls from the ```distance_category``` column. The options on that multiselect chart are labelled according to the ```label_map_distance``` label map."
   ]
  },
  {
   "cell_type": "code",
   "execution_count": null,
   "id": "70c80324-4707-48a7-8f5f-86c5689eb7e2",
   "metadata": {},
   "outputs": [],
   "source": [
    "points = cuxfilter.charts.scatter(x='lat_3857', y='lon_3857', pixel_shade_type='linear', color_palette = colors, aggregate_fn = 'max', \n",
    "                                  aggregate_col = 'distance_category', tile_provider=\"CartoDark\", \n",
    "                                  title = 'Households in Charleston County in Close Proximity to Tanks', legend = True)\n",
    "\n",
    "distance_category = cuxfilter.charts.multi_select('distance_category', label_map=label_map_distance)\n",
    "\n",
    "age = cuxfilter.charts.multi_select('is_elderly', label_map=label_map_elderly)\n",
    "\n",
    "children = cuxfilter.charts.multi_select('has_child', label_map=label_map_children)\n",
    "\n",
    "distance_slider = cuxfilter.charts.range_slider('distance_mi')"
   ]
  },
  {
   "cell_type": "markdown",
   "id": "8349188e-f9f0-442f-b458-bfcfe3a5eab0",
   "metadata": {},
   "source": [
    "Finally, we use the ```.dashboard``` method to put these charts together as an interactive dashboard for the user. We first specify the main charts which will be displayed in the ```layout``` we choose, then specify the charts that will be displayed on the dashboard's ```sidebar```."
   ]
  },
  {
   "cell_type": "code",
   "execution_count": null,
   "id": "9b737e64-1e5d-454c-afd1-1a75331424ed",
   "metadata": {},
   "outputs": [],
   "source": [
    "d = cux_df.dashboard([points, distance_slider], sidebar = [distance_category, age, children], \n",
    "                     layout = cuxfilter.layouts.feature_and_base) "
   ]
  },
  {
   "cell_type": "markdown",
   "id": "83b735ca-a710-44b4-b700-67f69a5e982b",
   "metadata": {},
   "source": [
    "### Displaying interactive dashboard\n",
    "\n",
    "Running the commands below displays the interactive dashboard. The user can use the multiselect charts to view specific subsets of points, and use ```ctrl``` click to view multiple catgories in one multiselect at a time. The user can also use the range slider chart to view households within a certain distance range from a storage tank.\n",
    "\n",
    "Using these interactive tools creates a copy of the data every time a user interacts with them, which may cause a memory allocation error. You can run ```nvidia-smi``` to see how much memory you are using on the GPUs."
   ]
  },
  {
   "cell_type": "code",
   "execution_count": null,
   "id": "95b66bda-610d-42ac-a329-c0104f862481",
   "metadata": {},
   "outputs": [],
   "source": [
    "d.show()\n",
    "d.app(sidebar_width=290) # run the dashboard within the notebook ce"
   ]
  }
 ],
 "metadata": {
  "kernelspec": {
   "display_name": "rapids",
   "language": "python",
   "name": "rapids"
  },
  "language_info": {
   "codemirror_mode": {
    "name": "ipython",
    "version": 3
   },
   "file_extension": ".py",
   "mimetype": "text/x-python",
   "name": "python",
   "nbconvert_exporter": "python",
   "pygments_lexer": "ipython3",
   "version": "3.9.13"
  }
 },
 "nbformat": 4,
 "nbformat_minor": 5
}
